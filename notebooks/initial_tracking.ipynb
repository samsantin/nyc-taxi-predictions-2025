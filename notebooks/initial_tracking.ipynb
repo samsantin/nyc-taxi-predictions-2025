{
 "cells": [
  {
   "cell_type": "code",
   "execution_count": 1,
   "id": "de8589ed",
   "metadata": {},
   "outputs": [],
   "source": [
    "import pandas as pd\n",
    "from sklearn.feature_extraction import DictVectorizer\n",
    "from sklearn.linear_model import Lasso\n",
    "from sklearn.metrics import root_mean_squared_error\n",
    "import mlflow\n",
    "from sklearn.linear_model import Lasso\n",
    "from sklearn.metrics import mean_squared_error\n",
    "import numpy as np\n",
    "from sklearn.ensemble import GradientBoostingRegressor, ExtraTreesRegressor\n",
    "from sklearn.svm import LinearSVR\n",
    "import os\n",
    "import pickle"
   ]
  },
  {
   "cell_type": "markdown",
   "id": "e8ba51c9",
   "metadata": {},
   "source": [
    "### Preparar datos y definir features"
   ]
  },
  {
   "cell_type": "code",
   "execution_count": 2,
   "id": "a6c3a672",
   "metadata": {},
   "outputs": [],
   "source": [
    "def read_dataframe(path):\n",
    "    df = pd.read_parquet(path)\n",
    "    df[\"duration\"] = (df.lpep_dropoff_datetime - df.lpep_pickup_datetime).dt.total_seconds() / 60\n",
    "    df = df[(df.duration >= 1) & (df.duration <= 60)]\n",
    "    df[[\"PULocationID\", \"DOLocationID\"]] = df[[\"PULocationID\", \"DOLocationID\"]].astype(str)\n",
    "    return df\n",
    "\n",
    "df_train = read_dataframe(\"../data/green_tripdata_2025-01.parquet\")\n",
    "df_val = read_dataframe(\"../data/green_tripdata_2025-02.parquet\")\n",
    "\n",
    "df_train[\"PU_DO\"] = df_train[\"PULocationID\"] + \"_\" + df_train[\"DOLocationID\"]\n",
    "df_val[\"PU_DO\"] = df_val[\"PULocationID\"] + \"_\" + df_val[\"DOLocationID\"]\n",
    "\n",
    "categorical = [\"PU_DO\"]\n",
    "numerical = [\"trip_distance\"]\n",
    "\n",
    "dv = DictVectorizer()\n",
    "X_train = dv.fit_transform(df_train[categorical + numerical].to_dict(orient=\"records\"))\n",
    "X_val = dv.transform(df_val[categorical + numerical].to_dict(orient=\"records\"))\n",
    "\n",
    "y_train = df_train[\"duration\"].values\n",
    "y_val = df_val[\"duration\"].values"
   ]
  },
  {
   "cell_type": "markdown",
   "id": "024710a1",
   "metadata": {},
   "source": [
    "### Tracking con MLFlow"
   ]
  },
  {
   "cell_type": "code",
   "execution_count": null,
   "id": "dc72fcba",
   "metadata": {},
   "outputs": [],
   "source": [
    "def root_mean_squared_error(y_true, y_pred):\n",
    "    return np.sqrt(mean_squared_error(y_true, y_pred))\n",
    "\n",
    "#  Use filesystem backend instead of SQLite to avoid migration issues\n",
    "mlflow.set_tracking_uri(\"./mlruns\")\n",
    "\n",
    "# Crear o usar el experimento local\n",
    "mlflow.set_experiment(\"class-nyc-taxi-experiment\")\n",
    "\n",
    "# Verificar configuración\n",
    "print(\"Tracking URI:\", mlflow.get_tracking_uri())\n",
    "print(\"Experiment info:\", mlflow.get_experiment_by_name(\"class-nyc-taxi-experiment\"))\n",
    "\n",
    "# Ejecutar un experimento con MLflow\n",
    "with mlflow.start_run(run_name=\"lasso_alpha_0.1\"):\n",
    "    alpha = 0.1\n",
    "    mlflow.log_param(\"alpha\", alpha)\n",
    "\n",
    "    model = Lasso(alpha=alpha)\n",
    "    model.fit(X_train, y_train)\n",
    "\n",
    "    y_pred = model.predict(X_val)\n",
    "    rmse = root_mean_squared_error(y_val, y_pred)\n",
    "\n",
    "    # Registrar resultados en MLflow\n",
    "    mlflow.log_metric(\"rmse\", rmse)\n",
    "    mlflow.sklearn.log_model(model, \"model\")\n",
    "\n",
    "    print(f\"Run finalizado. RMSE = {rmse:.4f}\")"
   ]
  },
  {
   "cell_type": "markdown",
   "id": "d243efa5",
   "metadata": {},
   "source": [
    "### Clase 2: Segundo registro de experimentos"
   ]
  },
  {
   "cell_type": "code",
   "execution_count": 4,
   "id": "130482f8",
   "metadata": {},
   "outputs": [
    {
     "data": {
      "text/plain": [
       "<Experiment: artifact_location=('file:///c:/Users/samys/Documents/Ingeniería y Ciencia de Datos/Quinto '\n",
       " 'Semestre/Proyecto Ciencia de '\n",
       " 'Datos/Repositorios/nyc-taxi-predictions-2025/notebooks/mlruns/737742726769045930'), creation_time=1760662432626, experiment_id='737742726769045930', last_update_time=1760662432626, lifecycle_stage='active', name='nyc-taxi-model-registry-example', tags={}>"
      ]
     },
     "execution_count": 4,
     "metadata": {},
     "output_type": "execute_result"
    }
   ],
   "source": [
    "mlflow.set_tracking_uri(\"./mlruns\")\n",
    "mlflow.set_experiment(\"nyc-taxi-model-registry-example\")\n"
   ]
  },
  {
   "cell_type": "code",
   "execution_count": 5,
   "id": "50971cc4",
   "metadata": {},
   "outputs": [],
   "source": [
    "mlflow.sklearn.autolog()"
   ]
  },
  {
   "cell_type": "code",
   "execution_count": 6,
   "id": "1c23c3d1",
   "metadata": {},
   "outputs": [],
   "source": [
    "training_dataset = mlflow.data.from_numpy(X_train.data, targets=y_train, name=\"green_tripdata_2025-01\")\n",
    "validation_dataset = mlflow.data.from_numpy(X_val.data, targets=y_val, name=\"green_tripdata_2025-02\")"
   ]
  },
  {
   "cell_type": "markdown",
   "id": "c052413c",
   "metadata": {},
   "source": [
    "### Nested Runs"
   ]
  },
  {
   "cell_type": "code",
   "execution_count": 7,
   "id": "3df36523",
   "metadata": {},
   "outputs": [],
   "source": [
    "models = [\n",
    "    \n",
    "    {\"model\": GradientBoostingRegressor,\n",
    "     \"params\": {\"n_estimators\": 100, \"learning_rate\": 0.3, \"max_depth\": 25, \"random_state\": 42},\n",
    "     },\n",
    "    \n",
    "    {\"model\": ExtraTreesRegressor,\n",
    "     \"params\": {\"n_estimators\": 100, \"max_depth\": 15, \"random_state\": 42},\n",
    "     },\n",
    "    \n",
    "    {\"model\": LinearSVR,\n",
    "     \"params\": {\"C\": 1.0, \"epsilon\": 0}, \n",
    "     },\n",
    "\n",
    "]"
   ]
  },
  {
   "cell_type": "code",
   "execution_count": 8,
   "id": "ae95cdd7",
   "metadata": {},
   "outputs": [
    {
     "name": "stderr",
     "output_type": "stream",
     "text": [
      "2025/10/16 20:32:36 WARNING mlflow.utils.autologging_utils: Encountered unexpected error during sklearn autologging: [WinError 206] El nombre del archivo o la extensión es demasiado largo: '.\\\\mlruns\\\\564663416245393530\\\\fcf43f9ea02747f1a28b355280517d75\\\\outputs\\\\m-994a6413e3df469a8566d72f373a438f'\n"
     ]
    },
    {
     "name": "stdout",
     "output_type": "stream",
     "text": [
      "Run 'GradientBoostingRegressor' finalizado. RMSE = 5.4560\n"
     ]
    },
    {
     "name": "stderr",
     "output_type": "stream",
     "text": [
      "2025/10/16 20:32:58 WARNING mlflow.utils.autologging_utils: Encountered unexpected error during sklearn autologging: [WinError 206] El nombre del archivo o la extensión es demasiado largo: '.\\\\mlruns\\\\564663416245393530\\\\fb4115e4ac0c4e16b3f44054f261658b\\\\outputs\\\\m-bca9d8fea0e74aa388505013e799e817'\n"
     ]
    },
    {
     "name": "stdout",
     "output_type": "stream",
     "text": [
      "Run 'ExtraTreesRegressor' finalizado. RMSE = 8.4630\n"
     ]
    },
    {
     "name": "stderr",
     "output_type": "stream",
     "text": [
      "c:\\Users\\samys\\Documents\\Ingeniería y Ciencia de Datos\\Quinto Semestre\\Proyecto Ciencia de Datos\\Repositorios\\nyc-taxi-predictions-2025\\.venv\\Lib\\site-packages\\sklearn\\svm\\_base.py:1250: ConvergenceWarning: Liblinear failed to converge, increase the number of iterations.\n",
      "  warnings.warn(\n",
      "2025/10/16 20:33:03 WARNING mlflow.utils.autologging_utils: Encountered unexpected error during sklearn autologging: [WinError 206] El nombre del archivo o la extensión es demasiado largo: '.\\\\mlruns\\\\564663416245393530\\\\d02b26f049ad438c9dced7e102d237f3\\\\outputs\\\\m-a70ecf4337a6448baabfeba045e7d895'\n"
     ]
    },
    {
     "name": "stdout",
     "output_type": "stream",
     "text": [
      "Run 'LinearSVR' finalizado. RMSE = 510.8559\n"
     ]
    }
   ],
   "source": [
    "# Asegurarte de que mlruns esté dentro de notebooks\n",
    "mlflow.set_tracking_uri(\"./mlruns\")\n",
    "mlflow.set_experiment(\"class-nyc-taxi-experiment\")\n",
    "\n",
    "with mlflow.start_run(run_name=\"Nested Runs\"):\n",
    "    for model in models:\n",
    "        model_class = model[\"model\"]\n",
    "        model_name = model_class.__name__\n",
    "        params = model[\"params\"]\n",
    "\n",
    "        with mlflow.start_run(run_name=model_name, nested=True):\n",
    "            # Entrenamiento del modelo\n",
    "            ml_model = model_class(**params)\n",
    "            ml_model.fit(X_train, y_train)\n",
    "\n",
    "            # Predicción y cálculo del RMSE\n",
    "            y_pred = ml_model.predict(X_val)\n",
    "            rmse = root_mean_squared_error(y_val, y_pred)\n",
    "            mlflow.log_metric(\"rmse\", rmse)\n",
    "\n",
    "            # Crear carpeta 'models' dentro de notebooks si no existe\n",
    "            os.makedirs(\"models\", exist_ok=True)\n",
    "\n",
    "            # Guardar el preprocesador (dv) en esa carpeta\n",
    "            preproc_path = \"models/preprocessor.b\"\n",
    "            with open(preproc_path, \"wb\") as f_out:\n",
    "                pickle.dump(dv, f_out)\n",
    "\n",
    "            # Registrar el preprocesador como artefacto en MLflow\n",
    "            mlflow.log_artifact(preproc_path, artifact_path=\"preprocessor\")\n",
    "\n",
    "            print(f\"Run '{model_name}' finalizado. RMSE = {rmse:.4f}\")\n"
   ]
  },
  {
   "cell_type": "markdown",
   "id": "a1965bda",
   "metadata": {},
   "source": [
    "-------------------------------------------------------------------------------------------------------------"
   ]
  },
  {
   "cell_type": "markdown",
   "id": "fb961307",
   "metadata": {},
   "source": [
    "### Registrar modelos a través de código"
   ]
  },
  {
   "cell_type": "code",
   "execution_count": 22,
   "id": "b1fcee0a",
   "metadata": {},
   "outputs": [
    {
     "name": "stderr",
     "output_type": "stream",
     "text": [
      "2025/10/16 20:52:08 INFO mlflow.utils.autologging_utils: Created MLflow autologging run with ID 'afe69b28ebbc435983d97a74443e55ce', which will track hyperparameters, performance metrics, model artifacts, and lineage information for the current sklearn workflow\n",
      "2025/10/16 20:52:45 WARNING mlflow.utils.environment: Failed to resolve installed pip version. ``pip`` will be added to conda.yaml environment spec without a version specifier.\n",
      "2025/10/16 20:52:47 WARNING mlflow.models.model: `artifact_path` is deprecated. Please use `name` instead.\n",
      "2025/10/16 20:52:54 WARNING mlflow.utils.environment: Failed to resolve installed pip version. ``pip`` will be added to conda.yaml environment spec without a version specifier.\n",
      "2025/10/16 20:52:54 WARNING mlflow.models.model: Model logged without a signature and input example. Please set `input_example` parameter when logging the model to auto infer the model signature.\n",
      "Successfully registered model 'nyc_taxi-model'.\n",
      "Created version '1' of model 'nyc_taxi-model'.\n"
     ]
    },
    {
     "name": "stdout",
     "output_type": "stream",
     "text": [
      "RMSE: 5.5688\n"
     ]
    }
   ],
   "source": [
    "from sklearn.ensemble import RandomForestRegressor\n",
    "\n",
    "# Configuramos MLflow para que use una ruta corta en C:\n",
    "mlflow.set_tracking_uri(\"file:///C:/mlruns\")  # <-- ruta corta para artefactos\n",
    "\n",
    "# Iniciamos un experimento (opcional, nombre corto también)\n",
    "mlflow.set_experiment(\"nyc-taxi-experiment\")\n",
    "\n",
    "# Entrenamos el modelo\n",
    "ml_model = RandomForestRegressor(\n",
    "    n_estimators=100,\n",
    "    max_depth=15,\n",
    "    random_state=42\n",
    ")\n",
    "ml_model.fit(X_train, y_train)\n",
    "\n",
    "# Logueamos el modelo en MLflow usando un nombre corto\n",
    "mlflow.sklearn.log_model(\n",
    "    sk_model=ml_model,              # tu modelo entrenado\n",
    "    artifact_path=\"model\",           # carpeta dentro de mlruns\n",
    "    registered_model_name=\"nyc_taxi-model\" )\n",
    "\n",
    "# Hacemos predicciones y calculamos RMSE\n",
    "y_pred = ml_model.predict(X_val)\n",
    "rmse = np.sqrt(mean_squared_error(y_val, y_pred))\n",
    "print(f\"RMSE: {rmse:.4f}\")\n"
   ]
  },
  {
   "cell_type": "code",
   "execution_count": null,
   "id": "4440224d",
   "metadata": {},
   "outputs": [],
   "source": [
    "run_id = input(\"Ingrese el run_id\")\n",
    "run_uri = f\"runs:/{run_id}/model\"\n",
    "\n",
    "result = mlflow.register_model(\n",
    "    model_uri=run_uri,\n",
    "    name=\"nyc-taxi-model\"\n",
    ")"
   ]
  },
  {
   "cell_type": "code",
   "execution_count": 16,
   "id": "05fea86b",
   "metadata": {},
   "outputs": [],
   "source": [
    "from mlflow import MlflowClient\n",
    "\n",
    "client = MlflowClient(tracking_uri=\"file:///C:/mlruns\")"
   ]
  },
  {
   "cell_type": "code",
   "execution_count": null,
   "id": "36080246",
   "metadata": {},
   "outputs": [],
   "source": [
    "client.create_registered_model(name=\"nyc-taxi-model\")"
   ]
  },
  {
   "cell_type": "code",
   "execution_count": 18,
   "id": "d3cf33d0",
   "metadata": {},
   "outputs": [],
   "source": [
    "run_id = input(\"Ingrese el run_id\")\n",
    "run_uri = f\"runs:/{run_id}/model\"\n",
    "\n",
    "result = client.create_model_version(\n",
    "    name=\"nyc-taxi-model\",\n",
    "    source=run_uri,\n",
    "    run_id=run_id\n",
    ")"
   ]
  },
  {
   "cell_type": "markdown",
   "id": "340e6088",
   "metadata": {},
   "source": [
    "## Asignar aliases y descripciones"
   ]
  },
  {
   "cell_type": "code",
   "execution_count": null,
   "id": "f1677637",
   "metadata": {},
   "outputs": [],
   "source": [
    "from mlflow import MlflowClient\n",
    "\n",
    "client = MlflowClient(tracking_uri=\"file:///C:/mlruns\")\n",
    "\n",
    "# create \"champion\" alias for version 1 of model \"example-model\"\n",
    "client.set_registered_model_alias(\n",
    "    name=\"nyc-taxi-model\", \n",
    "    alias=\"champion\",\n",
    "    version=10\n",
    ")\n",
    "\n",
    "# set the \"challenger\" alias to version 2\n",
    "client.set_registered_model_alias(\n",
    "    name=\"nyc-taxi-model\", \n",
    "    alias=\"challenger\",\n",
    "    version=7\n",
    ")"
   ]
  },
  {
   "cell_type": "code",
   "execution_count": null,
   "id": "445c911a",
   "metadata": {},
   "outputs": [],
   "source": [
    "# get a model version by alias\n",
    "client.get_model_version_by_alias(\n",
    "    name=\"nyc-taxi-model\",\n",
    "    alias=\"champion\"\n",
    ")"
   ]
  },
  {
   "cell_type": "code",
   "execution_count": null,
   "id": "0d379239",
   "metadata": {},
   "outputs": [],
   "source": [
    "# delete the alias\n",
    "client.delete_registered_model_alias(\n",
    "    name=\"nyc-taxi-model\", \n",
    "    alias=\"challenger\"\n",
    ")"
   ]
  },
  {
   "cell_type": "code",
   "execution_count": null,
   "id": "3672b6d2",
   "metadata": {},
   "outputs": [],
   "source": [
    "client.update_model_version(\n",
    "    name=\"nyc-taxi-model\",\n",
    "    version=1,\n",
    "    description=\"This model version is a scikit-learn random forest containing 100 decision trees\",\n",
    ")"
   ]
  },
  {
   "cell_type": "markdown",
   "id": "8384655c",
   "metadata": {},
   "source": [
    "## Obtener modelos"
   ]
  },
  {
   "cell_type": "code",
   "execution_count": null,
   "id": "c313a2b1",
   "metadata": {},
   "outputs": [],
   "source": [
    "# Por registros\n",
    "\n",
    "import mlflow.pyfunc\n",
    "\n",
    "model_name = \"nyc-taxi-model\"\n",
    "model_version = 1\n",
    "\n",
    "model_uri = f\"models:/{model_name}/{model_version}\"\n",
    "\n",
    "model = mlflow.pyfunc.load_model(\n",
    "    model_uri=model_uri,\n",
    ")\n",
    "\n",
    "model.predict(X_val)"
   ]
  },
  {
   "cell_type": "code",
   "execution_count": null,
   "id": "0acc8b37",
   "metadata": {},
   "outputs": [],
   "source": [
    "# Por alias\n",
    "\n",
    "import mlflow.pyfunc\n",
    "\n",
    "model_name = \"nyc-taxi-model\"\n",
    "alias = \"champion\"\n",
    "\n",
    "model_uri = f\"models:/{model_name}@{alias}\"\n",
    "\n",
    "champion_version = mlflow.pyfunc.load_model(\n",
    "    model_uri=model_uri\n",
    ")\n",
    "\n",
    "champion_version.predict(X_val)"
   ]
  },
  {
   "cell_type": "markdown",
   "id": "8917778f",
   "metadata": {},
   "source": [
    "## Comparación de versiones y elección de un nuevo modelo champion"
   ]
  },
  {
   "cell_type": "code",
   "execution_count": null,
   "id": "87010bf4",
   "metadata": {},
   "outputs": [],
   "source": [
    "def read_dataframe(filename):\n",
    "    df = pd.read_parquet(filename)\n",
    "\n",
    "    df.lpep_dropoff_datetime = pd.to_datetime(df.lpep_dropoff_datetime)\n",
    "    df.lpep_pickup_datetime = pd.to_datetime(df.lpep_pickup_datetime)\n",
    "\n",
    "    df['duration'] = df.lpep_dropoff_datetime - df.lpep_pickup_datetime\n",
    "    df.duration = df.duration.apply(lambda td: td.total_seconds() / 60)\n",
    "\n",
    "    df = df[(df.duration >= 1) & (df.duration <= 60)]\n",
    "\n",
    "    categorical = ['PULocationID', 'DOLocationID']\n",
    "    df[categorical] = df[categorical].astype(str)\n",
    "    \n",
    "    return df\n",
    "\n",
    "\n",
    "def preprocess(df, dv):\n",
    "    df['PU_DO'] = df['PULocationID'] + '_' + df['DOLocationID']\n",
    "    categorical = ['PU_DO']\n",
    "    numerical = ['trip_distance']\n",
    "    train_dicts = df[categorical + numerical].to_dict(orient='records')\n",
    "    return dv.transform(train_dicts)\n",
    "\n",
    "\n",
    "def test_model(name, alias, X_test, y_test):\n",
    "    model = mlflow.pyfunc.load_model(f\"models:/{name}@{alias}\")\n",
    "    y_pred = model.predict(X_test)\n",
    "    return {\"rmse\": root_mean_squared_error(y_test, y_pred)}"
   ]
  },
  {
   "cell_type": "code",
   "execution_count": null,
   "id": "fec57b7f",
   "metadata": {},
   "outputs": [],
   "source": [
    "df = read_dataframe(\"data/green_tripdata_2025-03.parquet\")"
   ]
  },
  {
   "cell_type": "code",
   "execution_count": null,
   "id": "a299792f",
   "metadata": {},
   "outputs": [],
   "source": [
    "run_id = input(\"Ingrese el run_id\")\n",
    "\n",
    "client.download_artifacts(\n",
    "    run_id=run_id, \n",
    "    path='preprocessor', \n",
    "    dst_path='.'\n",
    ")"
   ]
  }
 ],
 "metadata": {
  "kernelspec": {
   "display_name": "nyc-taxi-predictions-2025",
   "language": "python",
   "name": "python3"
  },
  "language_info": {
   "codemirror_mode": {
    "name": "ipython",
    "version": 3
   },
   "file_extension": ".py",
   "mimetype": "text/x-python",
   "name": "python",
   "nbconvert_exporter": "python",
   "pygments_lexer": "ipython3",
   "version": "3.11.13"
  }
 },
 "nbformat": 4,
 "nbformat_minor": 5
}
