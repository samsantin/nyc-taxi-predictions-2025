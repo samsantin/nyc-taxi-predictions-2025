{
 "cells": [
  {
   "cell_type": "markdown",
   "id": "2a55c1a7",
   "metadata": {},
   "source": [
    "# Tarea 5: Challenger experiments\n",
    "\n",
    "Samantha Sánchez Tinoco"
   ]
  },
  {
   "cell_type": "code",
   "execution_count": 24,
   "id": "5c864b25",
   "metadata": {},
   "outputs": [],
   "source": [
    "import os, mlflow\n",
    "from dotenv import load_dotenv\n",
    "\n",
    "load_dotenv(override=True)  # Carga las variables del archivo .env\n",
    "EXPERIMENT_NAME = \"/Users/samantha.sancheztin@gmail.com/nyc-taxi-experiments\"\n",
    "\n",
    "mlflow.set_tracking_uri(\"databricks\")\n",
    "mlflow.set_registry_uri(\"databricks\")\n",
    "experiment = mlflow.set_experiment(experiment_name=EXPERIMENT_NAME)"
   ]
  },
  {
   "cell_type": "markdown",
   "id": "45982abd",
   "metadata": {},
   "source": [
    "## 1. Lectura de datos"
   ]
  },
  {
   "cell_type": "code",
   "execution_count": 2,
   "id": "2dc5e92e",
   "metadata": {},
   "outputs": [],
   "source": [
    "import pickle\n",
    "import pandas as pd\n",
    "from sklearn.metrics import  root_mean_squared_error\n",
    "from sklearn.feature_extraction import  DictVectorizer"
   ]
  },
  {
   "cell_type": "code",
   "execution_count": 3,
   "id": "79a3983b",
   "metadata": {},
   "outputs": [],
   "source": [
    "def read_dataframe(filename):\n",
    "\n",
    "    df = pd.read_parquet(filename)\n",
    "\n",
    "    df['duration'] = df.lpep_dropoff_datetime - df.lpep_pickup_datetime\n",
    "    df.duration = df.duration.apply(lambda td: td.total_seconds() / 60)\n",
    "\n",
    "    df = df[(df.duration >= 1) & (df.duration <= 60)]\n",
    "\n",
    "    categorical = ['PULocationID', 'DOLocationID']\n",
    "    df[categorical] = df[categorical].astype(str)\n",
    "\n",
    "    return df"
   ]
  },
  {
   "cell_type": "code",
   "execution_count": 4,
   "id": "e02ff600",
   "metadata": {},
   "outputs": [],
   "source": [
    "df_train = read_dataframe('../data/green_tripdata_2025-01.parquet')\n",
    "df_val = read_dataframe('../data/green_tripdata_2025-02.parquet')"
   ]
  },
  {
   "cell_type": "markdown",
   "id": "24bd28c9",
   "metadata": {},
   "source": [
    "## 2. Pre-procesamiento"
   ]
  },
  {
   "cell_type": "code",
   "execution_count": 5,
   "id": "b118081c",
   "metadata": {},
   "outputs": [],
   "source": [
    "# Feature engineering\n",
    "def create_features(df):\n",
    "    df['PU_DO'] = df['PULocationID'] + '_' + df['DOLocationID']\n",
    "    categorical = ['PU_DO']\n",
    "    numerical = ['trip_distance']\n",
    "    return df[categorical + numerical].to_dict(orient='records')"
   ]
  },
  {
   "cell_type": "code",
   "execution_count": 6,
   "id": "997b3e58",
   "metadata": {},
   "outputs": [],
   "source": [
    "def fit_transform_dict_vectorizer(train_dicts):\n",
    "    dv = DictVectorizer()\n",
    "    return dv, dv.fit_transform(train_dicts)\n",
    "\n",
    "def transform_dict_vectorizer(df, dv):\n",
    "    test_dicts = create_features(df)\n",
    "    return dv.transform(test_dicts)"
   ]
  },
  {
   "cell_type": "code",
   "execution_count": 7,
   "id": "4be62dde",
   "metadata": {},
   "outputs": [],
   "source": [
    "# Preprocesamiento sin data leakage\n",
    "train_dicts = create_features(df_train)\n",
    "dv, X_train = fit_transform_dict_vectorizer(train_dicts)\n",
    "\n",
    "# Transformar datos de validación\n",
    "X_val = transform_dict_vectorizer(df_val, dv)"
   ]
  },
  {
   "cell_type": "code",
   "execution_count": 8,
   "id": "8a442351",
   "metadata": {},
   "outputs": [],
   "source": [
    "# Extraer variable objetivo\n",
    "target = 'duration'\n",
    "y_train = df_train[target].values\n",
    "y_val = df_val[target].values"
   ]
  },
  {
   "cell_type": "code",
   "execution_count": 9,
   "id": "c7994318",
   "metadata": {},
   "outputs": [],
   "source": [
    "# Crear datasets MLflow\n",
    "training_dataset = mlflow.data.from_numpy(X_train.data, targets=y_train, name=\"green_tripdata_2025-01\")\n",
    "validation_dataset = mlflow.data.from_numpy(X_val.data, targets=y_val, name=\"green_tripdata_2025-02\")"
   ]
  },
  {
   "cell_type": "markdown",
   "id": "c7100a4a",
   "metadata": {},
   "source": [
    "## 3. Modelos\n",
    "\n",
    "### Gradient Boost"
   ]
  },
  {
   "cell_type": "code",
   "execution_count": 10,
   "id": "d00b8f50",
   "metadata": {},
   "outputs": [],
   "source": [
    "import math\n",
    "import optuna\n",
    "from sklearn.ensemble import GradientBoostingRegressor\n",
    "from optuna.samplers import TPESampler\n",
    "from mlflow.models.signature import infer_signature"
   ]
  },
  {
   "cell_type": "code",
   "execution_count": 11,
   "id": "e6231c7c",
   "metadata": {},
   "outputs": [],
   "source": [
    "def objective_gb(trial: optuna.trial.Trial):\n",
    "    params = {\n",
    "        \"n_estimators\": trial.suggest_int(\"n_estimators\", 50, 500),\n",
    "        \"learning_rate\": trial.suggest_float(\"learning_rate\", 0.01, 0.3),\n",
    "        \"max_depth\": trial.suggest_int(\"max_depth\", 3, 12),\n",
    "        \"min_samples_split\": trial.suggest_int(\"min_samples_split\", 2, 20),\n",
    "        \"min_samples_leaf\": trial.suggest_int(\"min_samples_leaf\", 1, 10),\n",
    "        \"subsample\": trial.suggest_float(\"subsample\", 0.5, 1.0),\n",
    "        \"random_state\": 42\n",
    "    }\n",
    "\n",
    "    with mlflow.start_run(nested=True):\n",
    "        mlflow.set_tag(\"model_family\", \"gradient_boosting\")\n",
    "        mlflow.log_params(params)\n",
    "\n",
    "        gb = GradientBoostingRegressor(**params)\n",
    "        gb.fit(X_train, y_train)\n",
    "        \n",
    "        y_pred = gb.predict(X_val)\n",
    "        rmse = root_mean_squared_error(y_val, y_pred)\n",
    "        mlflow.log_metric(\"rmse\", rmse)\n",
    "\n",
    "        signature = infer_signature(X_val, y_pred)\n",
    "        mlflow.sklearn.log_model(\n",
    "            gb,\n",
    "            \"model\",\n",
    "            signature=signature\n",
    "        )\n",
    "\n",
    "    return rmse"
   ]
  },
  {
   "cell_type": "code",
   "execution_count": 12,
   "id": "0626c2a3",
   "metadata": {},
   "outputs": [
    {
     "name": "stderr",
     "output_type": "stream",
     "text": [
      "[I 2025-10-27 18:06:29,476] A new study created in memory with name: no-name-c358cf97-b770-4a14-a018-dcafe038a22e\n",
      "2025/10/27 18:07:31 WARNING mlflow.models.model: `artifact_path` is deprecated. Please use `name` instead.\n",
      "2025/10/27 18:08:22 WARNING mlflow.utils.environment: Failed to resolve installed pip version. ``pip`` will be added to conda.yaml environment spec without a version specifier.\n",
      "[I 2025-10-27 18:08:24,966] Trial 0 finished with value: 5.366910042903661 and parameters: {'n_estimators': 218, 'learning_rate': 0.28570714885887566, 'max_depth': 10, 'min_samples_split': 13, 'min_samples_leaf': 2, 'subsample': 0.5779972601681014}. Best is trial 0 with value: 5.366910042903661.\n"
     ]
    },
    {
     "name": "stdout",
     "output_type": "stream",
     "text": [
      "🏃 View run stately-flea-395 at: https://dbc-c669aeb4-7965.cloud.databricks.com/ml/experiments/873274240097878/runs/3aaac098ed9745ccb1f38c2c0fa71a5c\n",
      "🧪 View experiment at: https://dbc-c669aeb4-7965.cloud.databricks.com/ml/experiments/873274240097878\n"
     ]
    },
    {
     "name": "stderr",
     "output_type": "stream",
     "text": [
      "2025/10/27 18:08:35 WARNING mlflow.models.model: `artifact_path` is deprecated. Please use `name` instead.\n",
      "2025/10/27 18:08:44 WARNING mlflow.utils.environment: Failed to resolve installed pip version. ``pip`` will be added to conda.yaml environment spec without a version specifier.\n",
      "[I 2025-10-27 18:08:47,390] Trial 1 finished with value: 5.4508625983409305 and parameters: {'n_estimators': 76, 'learning_rate': 0.2611910822747312, 'max_depth': 9, 'min_samples_split': 15, 'min_samples_leaf': 1, 'subsample': 0.9849549260809971}. Best is trial 0 with value: 5.366910042903661.\n"
     ]
    },
    {
     "name": "stdout",
     "output_type": "stream",
     "text": [
      "🏃 View run ambitious-koi-629 at: https://dbc-c669aeb4-7965.cloud.databricks.com/ml/experiments/873274240097878/runs/77467358bdb047ada53475a9ee86a2cf\n",
      "🧪 View experiment at: https://dbc-c669aeb4-7965.cloud.databricks.com/ml/experiments/873274240097878\n"
     ]
    },
    {
     "name": "stderr",
     "output_type": "stream",
     "text": [
      "2025/10/27 18:09:12 WARNING mlflow.models.model: `artifact_path` is deprecated. Please use `name` instead.\n",
      "2025/10/27 18:09:22 WARNING mlflow.utils.environment: Failed to resolve installed pip version. ``pip`` will be added to conda.yaml environment spec without a version specifier.\n",
      "[I 2025-10-27 18:09:25,336] Trial 2 finished with value: 5.437186040925057 and parameters: {'n_estimators': 425, 'learning_rate': 0.07157834209670008, 'max_depth': 4, 'min_samples_split': 5, 'min_samples_leaf': 4, 'subsample': 0.762378215816119}. Best is trial 0 with value: 5.366910042903661.\n"
     ]
    },
    {
     "name": "stdout",
     "output_type": "stream",
     "text": [
      "🏃 View run marvelous-snake-942 at: https://dbc-c669aeb4-7965.cloud.databricks.com/ml/experiments/873274240097878/runs/6cec105ab27d44518f3951bf60c91670\n",
      "🧪 View experiment at: https://dbc-c669aeb4-7965.cloud.databricks.com/ml/experiments/873274240097878\n"
     ]
    },
    {
     "name": "stderr",
     "output_type": "stream",
     "text": [
      "2025/10/27 18:09:53 WARNING mlflow.models.model: `artifact_path` is deprecated. Please use `name` instead.\n",
      "2025/10/27 18:10:02 WARNING mlflow.utils.environment: Failed to resolve installed pip version. ``pip`` will be added to conda.yaml environment spec without a version specifier.\n",
      "[I 2025-10-27 18:10:06,311] Trial 3 finished with value: 5.363054425677847 and parameters: {'n_estimators': 244, 'learning_rate': 0.09445645065743215, 'max_depth': 9, 'min_samples_split': 4, 'min_samples_leaf': 3, 'subsample': 0.6831809216468459}. Best is trial 3 with value: 5.363054425677847.\n"
     ]
    },
    {
     "name": "stdout",
     "output_type": "stream",
     "text": [
      "🏃 View run big-skink-927 at: https://dbc-c669aeb4-7965.cloud.databricks.com/ml/experiments/873274240097878/runs/c15098854ac94b6a9ec5b9579480b3ad\n",
      "🧪 View experiment at: https://dbc-c669aeb4-7965.cloud.databricks.com/ml/experiments/873274240097878\n"
     ]
    },
    {
     "name": "stderr",
     "output_type": "stream",
     "text": [
      "2025/10/27 18:10:18 WARNING mlflow.models.model: `artifact_path` is deprecated. Please use `name` instead.\n",
      "2025/10/27 18:10:28 WARNING mlflow.utils.environment: Failed to resolve installed pip version. ``pip`` will be added to conda.yaml environment spec without a version specifier.\n",
      "[I 2025-10-27 18:10:30,942] Trial 4 finished with value: 5.406105509343811 and parameters: {'n_estimators': 255, 'learning_rate': 0.23770102880397392, 'max_depth': 4, 'min_samples_split': 11, 'min_samples_leaf': 6, 'subsample': 0.5232252063599989}. Best is trial 3 with value: 5.363054425677847.\n"
     ]
    },
    {
     "name": "stdout",
     "output_type": "stream",
     "text": [
      "🏃 View run funny-perch-867 at: https://dbc-c669aeb4-7965.cloud.databricks.com/ml/experiments/873274240097878/runs/e24071efe9ff482cb94f073be10da2c9\n",
      "🧪 View experiment at: https://dbc-c669aeb4-7965.cloud.databricks.com/ml/experiments/873274240097878\n"
     ]
    },
    {
     "name": "stderr",
     "output_type": "stream",
     "text": [
      "2025/10/27 18:10:52 WARNING mlflow.models.model: `artifact_path` is deprecated. Please use `name` instead.\n",
      "2025/10/27 18:11:02 WARNING mlflow.utils.environment: Failed to resolve installed pip version. ``pip`` will be added to conda.yaml environment spec without a version specifier.\n",
      "[I 2025-10-27 18:11:04,455] Trial 5 finished with value: 5.53903019202587 and parameters: {'n_estimators': 324, 'learning_rate': 0.059451995869314544, 'max_depth': 3, 'min_samples_split': 20, 'min_samples_leaf': 10, 'subsample': 0.9041986740582306}. Best is trial 3 with value: 5.363054425677847.\n"
     ]
    },
    {
     "name": "stdout",
     "output_type": "stream",
     "text": [
      "🏃 View run colorful-bass-214 at: https://dbc-c669aeb4-7965.cloud.databricks.com/ml/experiments/873274240097878/runs/86e33efb38a9408987d0f3e67946760e\n",
      "🧪 View experiment at: https://dbc-c669aeb4-7965.cloud.databricks.com/ml/experiments/873274240097878\n"
     ]
    },
    {
     "name": "stderr",
     "output_type": "stream",
     "text": [
      "2025/10/27 18:11:40 WARNING mlflow.models.model: `artifact_path` is deprecated. Please use `name` instead.\n",
      "2025/10/27 18:11:51 WARNING mlflow.utils.environment: Failed to resolve installed pip version. ``pip`` will be added to conda.yaml environment spec without a version specifier.\n",
      "[I 2025-10-27 18:11:56,716] Trial 6 finished with value: 5.450772998600317 and parameters: {'n_estimators': 187, 'learning_rate': 0.03832491306185132, 'max_depth': 9, 'min_samples_split': 10, 'min_samples_leaf': 2, 'subsample': 0.7475884550556351}. Best is trial 3 with value: 5.363054425677847.\n"
     ]
    },
    {
     "name": "stdout",
     "output_type": "stream",
     "text": [
      "🏃 View run victorious-gnu-547 at: https://dbc-c669aeb4-7965.cloud.databricks.com/ml/experiments/873274240097878/runs/6946d9823f3b4f8c95c95474c8409498\n",
      "🧪 View experiment at: https://dbc-c669aeb4-7965.cloud.databricks.com/ml/experiments/873274240097878\n"
     ]
    },
    {
     "name": "stderr",
     "output_type": "stream",
     "text": [
      "2025/10/27 18:12:06 WARNING mlflow.models.model: `artifact_path` is deprecated. Please use `name` instead.\n",
      "2025/10/27 18:12:18 WARNING mlflow.utils.environment: Failed to resolve installed pip version. ``pip`` will be added to conda.yaml environment spec without a version specifier.\n",
      "[I 2025-10-27 18:12:22,418] Trial 7 finished with value: 5.457099498654661 and parameters: {'n_estimators': 65, 'learning_rate': 0.2737029166028468, 'max_depth': 5, 'min_samples_split': 14, 'min_samples_leaf': 4, 'subsample': 0.7600340105889054}. Best is trial 3 with value: 5.363054425677847.\n"
     ]
    },
    {
     "name": "stdout",
     "output_type": "stream",
     "text": [
      "🏃 View run bittersweet-hare-638 at: https://dbc-c669aeb4-7965.cloud.databricks.com/ml/experiments/873274240097878/runs/f4076f5c74d04d039260a87da95c0ebc\n",
      "🧪 View experiment at: https://dbc-c669aeb4-7965.cloud.databricks.com/ml/experiments/873274240097878\n"
     ]
    },
    {
     "name": "stderr",
     "output_type": "stream",
     "text": [
      "2025/10/27 18:13:49 WARNING mlflow.models.model: `artifact_path` is deprecated. Please use `name` instead.\n",
      "2025/10/27 18:14:00 WARNING mlflow.utils.environment: Failed to resolve installed pip version. ``pip`` will be added to conda.yaml environment spec without a version specifier.\n",
      "[I 2025-10-27 18:14:05,866] Trial 8 finished with value: 5.414639986899689 and parameters: {'n_estimators': 296, 'learning_rate': 0.06360779210240283, 'max_depth': 12, 'min_samples_split': 16, 'min_samples_leaf': 10, 'subsample': 0.9474136752138245}. Best is trial 3 with value: 5.363054425677847.\n"
     ]
    },
    {
     "name": "stdout",
     "output_type": "stream",
     "text": [
      "🏃 View run mercurial-shoat-454 at: https://dbc-c669aeb4-7965.cloud.databricks.com/ml/experiments/873274240097878/runs/bccb2953291d4fb3aa6db95a17a64c9d\n",
      "🧪 View experiment at: https://dbc-c669aeb4-7965.cloud.databricks.com/ml/experiments/873274240097878\n"
     ]
    },
    {
     "name": "stderr",
     "output_type": "stream",
     "text": [
      "2025/10/27 18:14:20 WARNING mlflow.models.model: `artifact_path` is deprecated. Please use `name` instead.\n",
      "2025/10/27 18:14:31 WARNING mlflow.utils.environment: Failed to resolve installed pip version. ``pip`` will be added to conda.yaml environment spec without a version specifier.\n",
      "[I 2025-10-27 18:14:33,945] Trial 9 finished with value: 5.477046205025457 and parameters: {'n_estimators': 319, 'learning_rate': 0.2773435281567039, 'max_depth': 3, 'min_samples_split': 5, 'min_samples_leaf': 1, 'subsample': 0.6626651653816322}. Best is trial 3 with value: 5.363054425677847.\n"
     ]
    },
    {
     "name": "stdout",
     "output_type": "stream",
     "text": [
      "🏃 View run crawling-gnat-841 at: https://dbc-c669aeb4-7965.cloud.databricks.com/ml/experiments/873274240097878/runs/20e25a035901424ba786ec562973be78\n",
      "🧪 View experiment at: https://dbc-c669aeb4-7965.cloud.databricks.com/ml/experiments/873274240097878\n",
      "Best parameters: {'n_estimators': 244, 'learning_rate': 0.09445645065743215, 'max_depth': 9, 'min_samples_split': 4, 'min_samples_leaf': 3, 'subsample': 0.6831809216468459}\n",
      "Best RMSE: 5.363054425677847\n",
      "🏃 View run Gradient Boosting Parent Experiment at: https://dbc-c669aeb4-7965.cloud.databricks.com/ml/experiments/873274240097878/runs/4acbce7a71064144b563f824c680bdff\n",
      "🧪 View experiment at: https://dbc-c669aeb4-7965.cloud.databricks.com/ml/experiments/873274240097878\n"
     ]
    }
   ],
   "source": [
    "# Parent run para Gradient Boosting\n",
    "with mlflow.start_run(run_name=\"Gradient Boosting Parent Experiment\"):\n",
    "    mlflow.set_tag(\"model_type\", \"gradient_boosting\")\n",
    "    \n",
    "    sampler = TPESampler(seed=42)\n",
    "    study_gb = optuna.create_study(direction=\"minimize\", sampler=sampler)\n",
    "    study_gb.optimize(objective_gb, n_trials=10)\n",
    "    \n",
    "    mlflow.log_metric(\"best_rmse\", study_gb.best_value)\n",
    "    mlflow.log_params(study_gb.best_params)\n",
    "\n",
    "    print(\"Best parameters:\", study_gb.best_params)\n",
    "    print(\"Best RMSE:\", study_gb.best_value)"
   ]
  },
  {
   "cell_type": "markdown",
   "id": "9d69b1c9",
   "metadata": {},
   "source": [
    "### Random Forest"
   ]
  },
  {
   "cell_type": "code",
   "execution_count": 13,
   "id": "32b09e35",
   "metadata": {},
   "outputs": [],
   "source": [
    "from sklearn.ensemble import RandomForestRegressor\n",
    "\n",
    "def objective_rf(trial: optuna.trial.Trial):\n",
    "    params = {\n",
    "        \"n_estimators\": trial.suggest_int(\"n_estimators\", 100, 500),\n",
    "        \"max_depth\": trial.suggest_int(\"max_depth\", 5, 50),\n",
    "        \"min_samples_split\": trial.suggest_int(\"min_samples_split\", 2, 20),\n",
    "        \"min_samples_leaf\": trial.suggest_int(\"min_samples_leaf\", 1, 10),\n",
    "        \"max_features\": trial.suggest_categorical(\"max_features\", [\"sqrt\", \"log2\", None]),\n",
    "        \"random_state\": 42\n",
    "    }\n",
    "\n",
    "    with mlflow.start_run(nested=True):\n",
    "        mlflow.set_tag(\"model_family\", \"random_forest\")\n",
    "        mlflow.log_params(params)\n",
    "\n",
    "        rf = RandomForestRegressor(**params)\n",
    "        rf.fit(X_train, y_train)\n",
    "        \n",
    "        y_pred = rf.predict(X_val)\n",
    "        rmse = root_mean_squared_error(y_val, y_pred)\n",
    "        mlflow.log_metric(\"rmse\", rmse)\n",
    "\n",
    "        signature = infer_signature(X_val, y_pred)\n",
    "        mlflow.sklearn.log_model(\n",
    "            rf,\n",
    "            \"model\",\n",
    "            signature=signature\n",
    "        )\n",
    "\n",
    "    return rmse"
   ]
  },
  {
   "cell_type": "code",
   "execution_count": 15,
   "id": "2cc9ab68",
   "metadata": {},
   "outputs": [
    {
     "name": "stderr",
     "output_type": "stream",
     "text": [
      "[I 2025-10-27 18:14:58,584] A new study created in memory with name: no-name-377efe12-b331-4496-a7a7-7799cb5dbdce\n",
      "2025/10/27 18:15:42 WARNING mlflow.models.model: `artifact_path` is deprecated. Please use `name` instead.\n",
      "2025/10/27 18:15:52 WARNING mlflow.utils.environment: Failed to resolve installed pip version. ``pip`` will be added to conda.yaml environment spec without a version specifier.\n",
      "[I 2025-10-27 18:16:13,111] Trial 0 finished with value: 6.882101920264759 and parameters: {'n_estimators': 250, 'max_depth': 48, 'min_samples_split': 15, 'min_samples_leaf': 6, 'max_features': 'sqrt'}. Best is trial 0 with value: 6.882101920264759.\n"
     ]
    },
    {
     "name": "stdout",
     "output_type": "stream",
     "text": [
      "🏃 View run sneaky-calf-437 at: https://dbc-c669aeb4-7965.cloud.databricks.com/ml/experiments/873274240097878/runs/54860bc2afd0461e8b32a11b54adaa6e\n",
      "🧪 View experiment at: https://dbc-c669aeb4-7965.cloud.databricks.com/ml/experiments/873274240097878\n"
     ]
    },
    {
     "name": "stderr",
     "output_type": "stream",
     "text": [
      "2025/10/27 18:17:04 WARNING mlflow.models.model: `artifact_path` is deprecated. Please use `name` instead.\n",
      "2025/10/27 18:17:13 WARNING mlflow.utils.environment: Failed to resolve installed pip version. ``pip`` will be added to conda.yaml environment spec without a version specifier.\n",
      "[I 2025-10-27 18:17:38,159] Trial 1 finished with value: 7.395500849046491 and parameters: {'n_estimators': 447, 'max_depth': 32, 'min_samples_split': 15, 'min_samples_leaf': 1, 'max_features': 'sqrt'}. Best is trial 0 with value: 6.882101920264759.\n"
     ]
    },
    {
     "name": "stdout",
     "output_type": "stream",
     "text": [
      "🏃 View run blushing-dog-42 at: https://dbc-c669aeb4-7965.cloud.databricks.com/ml/experiments/873274240097878/runs/e69f4de84979466eacb76f5ff02c97af\n",
      "🧪 View experiment at: https://dbc-c669aeb4-7965.cloud.databricks.com/ml/experiments/873274240097878\n"
     ]
    },
    {
     "name": "stderr",
     "output_type": "stream",
     "text": [
      "2025/10/27 18:19:31 WARNING mlflow.models.model: `artifact_path` is deprecated. Please use `name` instead.\n",
      "2025/10/27 18:19:50 WARNING mlflow.utils.environment: Failed to resolve installed pip version. ``pip`` will be added to conda.yaml environment spec without a version specifier.\n"
     ]
    },
    {
     "name": "stdout",
     "output_type": "stream",
     "text": [
      "🏃 View run incongruous-shad-828 at: https://dbc-c669aeb4-7965.cloud.databricks.com/ml/experiments/873274240097878/runs/798f7183ad534c9b813eceb62f9974ec\n",
      "🧪 View experiment at: https://dbc-c669aeb4-7965.cloud.databricks.com/ml/experiments/873274240097878\n"
     ]
    },
    {
     "name": "stderr",
     "output_type": "stream",
     "text": [
      "[I 2025-10-27 18:20:25,928] Trial 2 finished with value: 5.532191644130856 and parameters: {'n_estimators': 172, 'max_depth': 13, 'min_samples_split': 7, 'min_samples_leaf': 6, 'max_features': None}. Best is trial 2 with value: 5.532191644130856.\n",
      "2025/10/27 18:20:51 WARNING mlflow.models.model: `artifact_path` is deprecated. Please use `name` instead.\n",
      "2025/10/27 18:21:11 WARNING mlflow.utils.environment: Failed to resolve installed pip version. ``pip`` will be added to conda.yaml environment spec without a version specifier.\n"
     ]
    },
    {
     "name": "stdout",
     "output_type": "stream",
     "text": [
      "🏃 View run nebulous-robin-209 at: https://dbc-c669aeb4-7965.cloud.databricks.com/ml/experiments/873274240097878/runs/f9e5980d00d8409fb1b6d903a240bc9c\n",
      "🧪 View experiment at: https://dbc-c669aeb4-7965.cloud.databricks.com/ml/experiments/873274240097878\n"
     ]
    },
    {
     "name": "stderr",
     "output_type": "stream",
     "text": [
      "[I 2025-10-27 18:21:30,720] Trial 3 finished with value: 7.877918297156907 and parameters: {'n_estimators': 155, 'max_depth': 18, 'min_samples_split': 8, 'min_samples_leaf': 5, 'max_features': 'sqrt'}. Best is trial 2 with value: 5.532191644130856.\n",
      "2025/10/27 18:23:13 WARNING mlflow.models.model: `artifact_path` is deprecated. Please use `name` instead.\n",
      "2025/10/27 18:23:33 WARNING mlflow.utils.environment: Failed to resolve installed pip version. ``pip`` will be added to conda.yaml environment spec without a version specifier.\n"
     ]
    },
    {
     "name": "stdout",
     "output_type": "stream",
     "text": [
      "🏃 View run serious-sponge-836 at: https://dbc-c669aeb4-7965.cloud.databricks.com/ml/experiments/873274240097878/runs/8e57f3253b9a4cc8818a9fceb123fcf9\n",
      "🧪 View experiment at: https://dbc-c669aeb4-7965.cloud.databricks.com/ml/experiments/873274240097878\n"
     ]
    },
    {
     "name": "stderr",
     "output_type": "stream",
     "text": [
      "[I 2025-10-27 18:23:52,876] Trial 4 finished with value: 5.600834486465797 and parameters: {'n_estimators': 337, 'max_depth': 7, 'min_samples_split': 13, 'min_samples_leaf': 2, 'max_features': None}. Best is trial 2 with value: 5.532191644130856.\n",
      "2025/10/27 18:32:20 WARNING mlflow.models.model: `artifact_path` is deprecated. Please use `name` instead.\n",
      "2025/10/27 18:32:42 WARNING mlflow.utils.environment: Failed to resolve installed pip version. ``pip`` will be added to conda.yaml environment spec without a version specifier.\n"
     ]
    },
    {
     "name": "stdout",
     "output_type": "stream",
     "text": [
      "🏃 View run chill-snipe-633 at: https://dbc-c669aeb4-7965.cloud.databricks.com/ml/experiments/873274240097878/runs/c126598eca3c4e33a6da843756ffc085\n",
      "🧪 View experiment at: https://dbc-c669aeb4-7965.cloud.databricks.com/ml/experiments/873274240097878\n"
     ]
    },
    {
     "name": "stderr",
     "output_type": "stream",
     "text": [
      "[I 2025-10-27 18:34:56,632] Trial 5 finished with value: 5.543915375321774 and parameters: {'n_estimators': 424, 'max_depth': 19, 'min_samples_split': 3, 'min_samples_leaf': 7, 'max_features': None}. Best is trial 2 with value: 5.532191644130856.\n",
      "2025/10/27 18:39:08 WARNING mlflow.models.model: `artifact_path` is deprecated. Please use `name` instead.\n",
      "2025/10/27 18:39:28 WARNING mlflow.utils.environment: Failed to resolve installed pip version. ``pip`` will be added to conda.yaml environment spec without a version specifier.\n",
      "[I 2025-10-27 18:41:11,846] Trial 6 finished with value: 5.5738298474509635 and parameters: {'n_estimators': 113, 'max_depth': 46, 'min_samples_split': 6, 'min_samples_leaf': 7, 'max_features': None}. Best is trial 2 with value: 5.532191644130856.\n"
     ]
    },
    {
     "name": "stdout",
     "output_type": "stream",
     "text": [
      "🏃 View run mysterious-pig-650 at: https://dbc-c669aeb4-7965.cloud.databricks.com/ml/experiments/873274240097878/runs/4dffdbf80a7f411d90c86d57477be70c\n",
      "🧪 View experiment at: https://dbc-c669aeb4-7965.cloud.databricks.com/ml/experiments/873274240097878\n"
     ]
    },
    {
     "name": "stderr",
     "output_type": "stream",
     "text": [
      "2025/10/27 18:43:42 WARNING mlflow.models.model: `artifact_path` is deprecated. Please use `name` instead.\n",
      "2025/10/27 18:43:51 WARNING mlflow.utils.environment: Failed to resolve installed pip version. ``pip`` will be added to conda.yaml environment spec without a version specifier.\n",
      "[I 2025-10-27 18:44:55,206] Trial 7 finished with value: 5.613139342322132 and parameters: {'n_estimators': 174, 'max_depth': 49, 'min_samples_split': 16, 'min_samples_leaf': 10, 'max_features': None}. Best is trial 2 with value: 5.532191644130856.\n"
     ]
    },
    {
     "name": "stdout",
     "output_type": "stream",
     "text": [
      "🏃 View run persistent-owl-962 at: https://dbc-c669aeb4-7965.cloud.databricks.com/ml/experiments/873274240097878/runs/6fe1ed77fd174b379b11cd9b5ac3e514\n",
      "🧪 View experiment at: https://dbc-c669aeb4-7965.cloud.databricks.com/ml/experiments/873274240097878\n"
     ]
    },
    {
     "name": "stderr",
     "output_type": "stream",
     "text": [
      "2025/10/27 18:46:10 WARNING mlflow.models.model: `artifact_path` is deprecated. Please use `name` instead.\n",
      "2025/10/27 18:46:30 WARNING mlflow.utils.environment: Failed to resolve installed pip version. ``pip`` will be added to conda.yaml environment spec without a version specifier.\n"
     ]
    },
    {
     "name": "stdout",
     "output_type": "stream",
     "text": [
      "🏃 View run monumental-loon-389 at: https://dbc-c669aeb4-7965.cloud.databricks.com/ml/experiments/873274240097878/runs/92a39c05471b461ab54097e04c85a203\n",
      "🧪 View experiment at: https://dbc-c669aeb4-7965.cloud.databricks.com/ml/experiments/873274240097878\n"
     ]
    },
    {
     "name": "stderr",
     "output_type": "stream",
     "text": [
      "[I 2025-10-27 18:46:52,597] Trial 8 finished with value: 5.509241145526334 and parameters: {'n_estimators': 135, 'max_depth': 14, 'min_samples_split': 2, 'min_samples_leaf': 4, 'max_features': None}. Best is trial 8 with value: 5.509241145526334.\n",
      "2025/10/27 18:50:03 WARNING mlflow.models.model: `artifact_path` is deprecated. Please use `name` instead.\n",
      "2025/10/27 18:50:17 WARNING mlflow.utils.environment: Failed to resolve installed pip version. ``pip`` will be added to conda.yaml environment spec without a version specifier.\n",
      "[I 2025-10-27 18:51:13,077] Trial 9 finished with value: 5.481313294776017 and parameters: {'n_estimators': 243, 'max_depth': 17, 'min_samples_split': 12, 'min_samples_leaf': 2, 'max_features': None}. Best is trial 9 with value: 5.481313294776017.\n"
     ]
    },
    {
     "name": "stdout",
     "output_type": "stream",
     "text": [
      "🏃 View run delicate-deer-446 at: https://dbc-c669aeb4-7965.cloud.databricks.com/ml/experiments/873274240097878/runs/5566b145f1d74e97823c0a27b41c104f\n",
      "🧪 View experiment at: https://dbc-c669aeb4-7965.cloud.databricks.com/ml/experiments/873274240097878\n",
      "RF - Best parameters: {'n_estimators': 243, 'max_depth': 17, 'min_samples_split': 12, 'min_samples_leaf': 2, 'max_features': None}\n",
      "RF - Best RMSE: 5.481313294776017\n",
      "🏃 View run Random Forest Parent Experiment at: https://dbc-c669aeb4-7965.cloud.databricks.com/ml/experiments/873274240097878/runs/cd72374a48114ec8b968c209a11a943f\n",
      "🧪 View experiment at: https://dbc-c669aeb4-7965.cloud.databricks.com/ml/experiments/873274240097878\n"
     ]
    }
   ],
   "source": [
    "# Parent run de random forest\n",
    "with mlflow.start_run(run_name=\"Random Forest Parent Experiment\"):\n",
    "    mlflow.set_tag(\"model_type\", \"random_forest\")\n",
    "    \n",
    "    sampler = TPESampler(seed=42)\n",
    "    study_rf = optuna.create_study(direction=\"minimize\", sampler=sampler)\n",
    "    study_rf.optimize(objective_rf, n_trials=10)\n",
    "    \n",
    "    mlflow.log_metric(\"best_rmse\", study_rf.best_value)\n",
    "    mlflow.log_params(study_rf.best_params)\n",
    "\n",
    "    print(\"RF - Best parameters:\", study_rf.best_params)\n",
    "    print(\"RF - Best RMSE:\", study_rf.best_value)\n"
   ]
  },
  {
   "cell_type": "markdown",
   "id": "d8b38bf6",
   "metadata": {},
   "source": [
    "## 4. Comparar ambos modelos y registrar challenger:"
   ]
  },
  {
   "cell_type": "code",
   "execution_count": 16,
   "id": "a7f723da",
   "metadata": {},
   "outputs": [
    {
     "name": "stdout",
     "output_type": "stream",
     "text": [
      "Challenger será Gradient Boosting\n"
     ]
    }
   ],
   "source": [
    "# Determinar mejor modelo\n",
    "best_gb = study_gb.best_value\n",
    "best_rf = study_rf.best_value\n",
    "\n",
    "if best_gb <= best_rf:\n",
    "    print(\"Challenger será Gradient Boosting\")\n",
    "    best_model_type = \"gradient_boosting\"\n",
    "else:\n",
    "    print(\"Challenger será Random Forest\")\n",
    "    best_model_type = \"random_forest\""
   ]
  },
  {
   "cell_type": "code",
   "execution_count": 33,
   "id": "b3553617",
   "metadata": {},
   "outputs": [],
   "source": [
    "model_name = \"workspace.default.nyc-taxi-model\""
   ]
  },
  {
   "cell_type": "code",
   "execution_count": 34,
   "id": "4f3004e3",
   "metadata": {},
   "outputs": [
    {
     "name": "stdout",
     "output_type": "stream",
     "text": [
      "Champion Run encontrado:\n",
      "Run ID: c15098854ac94b6a9ec5b9579480b3ad\n",
      "RMSE: 5.363054425677847\n",
      "Params: {'learning_rate': '0.09445645065743215', 'max_depth': '9', 'min_samples_leaf': '3', 'min_samples_split': '4', 'n_estimators': '244', 'random_state': '42', 'subsample': '0.6831809216468459'}\n"
     ]
    }
   ],
   "source": [
    "runs = mlflow.search_runs(\n",
    "    experiment_names=[EXPERIMENT_NAME],\n",
    "    order_by=[\"metrics.rmse ASC\"],\n",
    "    output_format=\"list\"\n",
    ")\n",
    "\n",
    "# Obtener el mejor run\n",
    "if len(runs) > 0:\n",
    "    best_run = runs[0]\n",
    "    print(\"Champion Run encontrado:\")\n",
    "    print(f\"Run ID: {best_run.info.run_id}\")\n",
    "    print(f\"RMSE: {best_run.data.metrics['rmse']}\")\n",
    "    print(f\"Params: {best_run.data.params}\")\n",
    "else:\n",
    "    print(\"No se encontraron runs con métrica RMSE.\")"
   ]
  },
  {
   "cell_type": "code",
   "execution_count": 36,
   "id": "313c3ec7",
   "metadata": {},
   "outputs": [
    {
     "name": "stderr",
     "output_type": "stream",
     "text": [
      "Registered model 'workspace.default.nyc-taxi-model' already exists. Creating a new version of this model...\n",
      "2025/10/27 19:18:02 WARNING mlflow.tracking._model_registry.fluent: Run with id c15098854ac94b6a9ec5b9579480b3ad has no artifacts at artifact path 'model', registering model based on models:/m-e0ce302202164fd4a21b44eb045c1fc8 instead\n"
     ]
    },
    {
     "data": {
      "application/vnd.jupyter.widget-view+json": {
       "model_id": "0df1705962274a42a311a83df00266b1",
       "version_major": 2,
       "version_minor": 0
      },
      "text/plain": [
       "Downloading artifacts:   0%|          | 0/5 [00:00<?, ?it/s]"
      ]
     },
     "metadata": {},
     "output_type": "display_data"
    },
    {
     "data": {
      "application/vnd.jupyter.widget-view+json": {
       "model_id": "ec78bca587dd420e82e54d9b568d167b",
       "version_major": 2,
       "version_minor": 0
      },
      "text/plain": [
       "Uploading artifacts:   0%|          | 0/6 [00:00<?, ?it/s]"
      ]
     },
     "metadata": {},
     "output_type": "display_data"
    },
    {
     "name": "stderr",
     "output_type": "stream",
     "text": [
      "Created version '3' of model 'workspace.default.nyc-taxi-model'.\n"
     ]
    }
   ],
   "source": [
    "mlflow.set_registry_uri(\"databricks-uc\")\n",
    "\n",
    "\n",
    "result = mlflow.register_model(\n",
    "    model_uri=f\"runs:/{best_run.info.run_id}/model\",\n",
    "    name=model_name\n",
    ")\n"
   ]
  },
  {
   "cell_type": "markdown",
   "id": "a43acd49",
   "metadata": {},
   "source": [
    "## 5. Evaluar Champion vs Challenger con los datos de marzo 2025"
   ]
  },
  {
   "cell_type": "code",
   "execution_count": null,
   "id": "73f8bcf8",
   "metadata": {},
   "outputs": [],
   "source": [
    "# Descarga Marzo 2025 (si no existe)\n",
    "import urllib.request\n",
    "os.makedirs(\"../data\", exist_ok=True)\n",
    "url = \"https://nyc-tlc.s3.amazonaws.com/trip+data/green_tripdata_2025-03.parquet\"\n",
    "file_path = \"../data/green_tripdata_2025-03.parquet\"\n",
    "\n",
    "if not os.path.exists(file_path):\n",
    "    urllib.request.urlretrieve(url, file_path)\n",
    "\n",
    "df_test = read_dataframe(file_path)\n",
    "X_test = transform_dict_vectorizer(df_test, dv)\n",
    "y_test = df_test[target].values\n"
   ]
  },
  {
   "cell_type": "code",
   "execution_count": null,
   "id": "8a0efb36",
   "metadata": {},
   "outputs": [],
   "source": [
    "# Cargar modelos desde registry\n",
    "import mlflow.pyfunc\n",
    "\n",
    "def load_by_alias(alias):\n",
    "    versions = mlflow.search_model_versions(f\"name='{model_name}'\")\n",
    "    for v in versions:\n",
    "        if v.tags.get(\"alias\") == alias:\n",
    "            return mlflow.pyfunc.load_model(f\"models:/{model_name}/{v.version}\")\n",
    "    return None\n",
    "\n",
    "model_champion = load_by_alias(\"champion\")\n",
    "model_challenger = load_by_alias(\"challenger\")\n",
    "\n",
    "y_pred_champion = model_champion.predict(X_test)\n",
    "y_pred_challenger = model_challenger.predict(X_test)\n",
    "\n",
    "rmse_champion = root_mean_squared_error(y_test, y_pred_champion)\n",
    "rmse_challenger = root_mean_squared_error(y_test, y_pred_challenger)\n",
    "\n",
    "print(f\"Champion RMSE: {rmse_champion:.3f}\")\n",
    "print(f\"Challenger RMSE: {rmse_challenger:.3f}\")\n"
   ]
  },
  {
   "cell_type": "markdown",
   "id": "13fb5ff5",
   "metadata": {},
   "source": [
    "### ¿Se debe de cambiar el champion?"
   ]
  }
 ],
 "metadata": {
  "kernelspec": {
   "display_name": "nyc-taxi-predictions-2025",
   "language": "python",
   "name": "python3"
  },
  "language_info": {
   "codemirror_mode": {
    "name": "ipython",
    "version": 3
   },
   "file_extension": ".py",
   "mimetype": "text/x-python",
   "name": "python",
   "nbconvert_exporter": "python",
   "pygments_lexer": "ipython3",
   "version": "3.11.13"
  }
 },
 "nbformat": 4,
 "nbformat_minor": 5
}
