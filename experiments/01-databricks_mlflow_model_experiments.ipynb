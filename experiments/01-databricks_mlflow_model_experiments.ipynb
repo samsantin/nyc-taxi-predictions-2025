{
 "cells": [
  {
   "cell_type": "code",
   "execution_count": 4,
   "id": "2b54cb90",
   "metadata": {},
   "outputs": [
    {
     "name": "stderr",
     "output_type": "stream",
     "text": [
      "2025/10/21 20:44:20 INFO mlflow.tracking.fluent: Experiment with name '/Users/samantha.sancheztin@gmail.com/nyc-taxi-experiments' does not exist. Creating a new experiment.\n"
     ]
    }
   ],
   "source": [
    "import os, mlflow\n",
    "from dotenv import load_dotenv\n",
    "\n",
    "load_dotenv(override=True)  # Carga las variables del archivo .env\n",
    "EXPERIMENT_NAME = \"/Users/samantha.sancheztin@gmail.com/nyc-taxi-experiments\"\n",
    "\n",
    "mlflow.set_tracking_uri(\"databricks\")\n",
    "experiment = mlflow.set_experiment(experiment_name=EXPERIMENT_NAME)"
   ]
  },
  {
   "cell_type": "markdown",
   "id": "29b7ada9",
   "metadata": {},
   "source": [
    "## Train Model"
   ]
  },
  {
   "cell_type": "code",
   "execution_count": 5,
   "id": "44e1d078",
   "metadata": {},
   "outputs": [],
   "source": [
    "import pickle\n",
    "import pandas as pd\n",
    "from sklearn.metrics import  root_mean_squared_error\n",
    "from sklearn.feature_extraction import  DictVectorizer"
   ]
  },
  {
   "cell_type": "code",
   "execution_count": 6,
   "id": "1bb7b444",
   "metadata": {},
   "outputs": [],
   "source": [
    "def read_dataframe(filename):\n",
    "\n",
    "    df = pd.read_parquet(filename)\n",
    "\n",
    "    df['duration'] = df.lpep_dropoff_datetime - df.lpep_pickup_datetime\n",
    "    df.duration = df.duration.apply(lambda td: td.total_seconds() / 60)\n",
    "\n",
    "    df = df[(df.duration >= 1) & (df.duration <= 60)]\n",
    "\n",
    "    categorical = ['PULocationID', 'DOLocationID']\n",
    "    df[categorical] = df[categorical].astype(str)\n",
    "\n",
    "    return df"
   ]
  },
  {
   "cell_type": "code",
   "execution_count": 7,
   "id": "3729b7e4",
   "metadata": {},
   "outputs": [],
   "source": [
    "df_train = read_dataframe('../data/green_tripdata_2025-01.parquet')\n",
    "df_val = read_dataframe('../data/green_tripdata_2025-02.parquet')"
   ]
  },
  {
   "cell_type": "markdown",
   "id": "43118b5e",
   "metadata": {},
   "source": [
    "Feature Engineering + One Hot Encoding"
   ]
  },
  {
   "cell_type": "code",
   "execution_count": 8,
   "id": "aa58a571",
   "metadata": {},
   "outputs": [],
   "source": [
    "def preprocess(df, dv):\n",
    "    df['PU_DO'] = df['PULocationID'] + '_' + df['DOLocationID']\n",
    "    categorical = ['PU_DO']\n",
    "    numerical = ['trip_distance']\n",
    "    train_dicts = df[categorical + numerical].to_dict(orient='records')\n",
    "    return dv.transform(train_dicts)"
   ]
  },
  {
   "cell_type": "code",
   "execution_count": 9,
   "id": "3ccc9001",
   "metadata": {},
   "outputs": [],
   "source": [
    "categorical = ['PULocationID', 'DOLocationID']\n",
    "numerical = ['trip_distance']\n",
    "dv = DictVectorizer()\n",
    "\n",
    "train_dicts = df_train[categorical + numerical].to_dict(orient='records')\n",
    "X_train = dv.fit_transform(train_dicts)\n",
    "\n",
    "X_val = preprocess(df_val, dv)"
   ]
  },
  {
   "cell_type": "markdown",
   "id": "b1334daf",
   "metadata": {},
   "source": [
    "Target"
   ]
  },
  {
   "cell_type": "code",
   "execution_count": 10,
   "id": "5b4fceac",
   "metadata": {},
   "outputs": [],
   "source": [
    "target = 'duration'\n",
    "y_train = df_train[target].values\n",
    "y_val = df_val[target].values"
   ]
  },
  {
   "cell_type": "markdown",
   "id": "a9714a9b",
   "metadata": {},
   "source": [
    "Definir los dataset como objetos de mlflow para poderlos trackear"
   ]
  },
  {
   "cell_type": "code",
   "execution_count": 11,
   "id": "9f459ebc",
   "metadata": {},
   "outputs": [],
   "source": [
    "training_dataset = mlflow.data.from_numpy(X_train.data, targets=y_train, name=\"green_tripdata_2025-01\")\n",
    "validation_dataset = mlflow.data.from_numpy(X_val.data, targets=y_val, name=\"green_tripdata_2025-02\")"
   ]
  },
  {
   "cell_type": "markdown",
   "id": "497daf52",
   "metadata": {},
   "source": [
    "### Tunning de hiperparámetros para xgboost -Optuna"
   ]
  },
  {
   "cell_type": "code",
   "execution_count": 12,
   "id": "0d512bc1",
   "metadata": {},
   "outputs": [],
   "source": [
    "import math\n",
    "import optuna\n",
    "import pathlib\n",
    "import xgboost as xgb\n",
    "from optuna.samplers import TPESampler\n",
    "from mlflow.models.signature import infer_signature"
   ]
  },
  {
   "cell_type": "code",
   "execution_count": 13,
   "id": "ea83d16c",
   "metadata": {},
   "outputs": [],
   "source": [
    "train = xgb.DMatrix(X_train, label=y_train)\n",
    "valid = xgb.DMatrix(X_val, label=y_val)"
   ]
  },
  {
   "cell_type": "code",
   "execution_count": 14,
   "id": "5032cfed",
   "metadata": {},
   "outputs": [],
   "source": [
    "# ------------------------------------------------------------\n",
    "# Definir la función objetivo para Optuna\n",
    "#    - Recibe un `trial`, que se usa para proponer hiperparámetros.\n",
    "#    - Entrena un modelo con esos hiperparámetros.\n",
    "#    - Calcula la métrica de validación (RMSE) y la retorna (Optuna la minimizará).\n",
    "#    - Abrimos un run anidado de MLflow para registrar cada trial.\n",
    "# ------------------------------------------------------------\n",
    "def objective(trial: optuna.trial.Trial):\n",
    "    # Hiperparámetros MUESTREADOS por Optuna en CADA trial.\n",
    "    # Nota: usamos log=True para emular rangos log-uniformes (similar a loguniform).\n",
    "    params = {\n",
    "        \"max_depth\": trial.suggest_int(\"max_depth\", 4, 100),\n",
    "        \"learning_rate\": trial.suggest_float(\"learning_rate\", math.exp(-3), 1.0, log=True),\n",
    "        \"reg_alpha\": trial.suggest_float(\"reg_alpha\",   math.exp(-5), math.exp(-1), log=True),\n",
    "        \"reg_lambda\": trial.suggest_float(\"reg_lambda\", math.exp(-6), math.exp(-1), log=True),\n",
    "        \"min_child_weight\": trial.suggest_float(\"min_child_weight\", math.exp(-1), math.exp(3), log=True),\n",
    "        \"objective\": \"reg:squarederror\",  \n",
    "        \"seed\": 42,                      \n",
    "    }\n",
    "\n",
    "    # Run anidado para dejar rastro de cada trial en MLflow\n",
    "    with mlflow.start_run(nested=True):\n",
    "        mlflow.set_tag(\"model_family\", \"xgboost\")  # etiqueta informativa\n",
    "        mlflow.log_params(params)                  # registra hiperparámetros del trial\n",
    "\n",
    "        # Entrenamiento con early stopping en el conjunto de validación\n",
    "        booster = xgb.train(\n",
    "            params=params,\n",
    "            dtrain=train,\n",
    "            num_boost_round=100,\n",
    "            evals=[(valid, \"validation\")],\n",
    "            early_stopping_rounds=10,\n",
    "        )\n",
    "\n",
    "        # Predicción y métrica en validación\n",
    "        y_pred = booster.predict(valid)\n",
    "        rmse = root_mean_squared_error(y_val, y_pred)\n",
    "\n",
    "        # Registrar la métrica principal\n",
    "        mlflow.log_metric(\"rmse\", rmse)\n",
    "\n",
    "        # La \"signature\" describe la estructura esperada de entrada y salida del modelo:\n",
    "        # incluye los nombres, tipos y forma (shape) de las variables de entrada y el tipo de salida.\n",
    "        # MLflow la usa para validar datos en inferencia y documentar el modelo en el Model Registry.\n",
    "        signature = infer_signature(X_val, y_pred)\n",
    "\n",
    "        # Guardar el modelo del trial como artefacto en MLflow.\n",
    "        mlflow.xgboost.log_model(\n",
    "            booster,\n",
    "            name=\"model\",\n",
    "            input_example=X_val[:5],\n",
    "            signature=signature\n",
    "        )\n",
    "\n",
    "    # Optuna minimiza el valor retornado\n",
    "    return rmse"
   ]
  },
  {
   "cell_type": "markdown",
   "id": "a9177779",
   "metadata": {},
   "source": [
    "Flujo de búsqueda"
   ]
  },
  {
   "cell_type": "code",
   "execution_count": null,
   "id": "557c2080",
   "metadata": {},
   "outputs": [
    {
     "name": "stderr",
     "output_type": "stream",
     "text": [
      "[I 2025-10-21 20:57:01,446] A new study created in memory with name: no-name-6af1ef98-a972-4568-b3fe-08b87576159b\n"
     ]
    },
    {
     "name": "stdout",
     "output_type": "stream",
     "text": [
      "[0]\tvalidation-rmse:5.98960\n",
      "[1]\tvalidation-rmse:5.92413\n",
      "[2]\tvalidation-rmse:5.92287\n",
      "[3]\tvalidation-rmse:5.92324\n",
      "[4]\tvalidation-rmse:5.92483\n",
      "[5]\tvalidation-rmse:5.92489\n",
      "[6]\tvalidation-rmse:5.92498\n",
      "[7]\tvalidation-rmse:5.92343\n",
      "[8]\tvalidation-rmse:5.92347\n",
      "[9]\tvalidation-rmse:5.92467\n",
      "[10]\tvalidation-rmse:5.92456\n",
      "[11]\tvalidation-rmse:5.92460\n",
      "[12]\tvalidation-rmse:5.92458\n"
     ]
    },
    {
     "name": "stderr",
     "output_type": "stream",
     "text": [
      "c:\\Users\\samys\\Documents\\Ingeniería y Ciencia de Datos\\Quinto Semestre\\Proyecto Ciencia de Datos\\Repositorios\\nyc-taxi-predictions-2025\\.venv\\Lib\\site-packages\\mlflow\\xgboost\\__init__.py:169: UserWarning: [20:57:16] WARNING: C:\\actions-runner\\_work\\xgboost\\xgboost\\src\\c_api\\c_api.cc:1575: Saving model in the UBJSON format as default.  You can use a file extension: `json` or `ubj` to choose between formats.\n",
      "  xgb_model.save_model(model_data_path)\n",
      "2025/10/21 20:57:33 WARNING mlflow.utils.environment: Failed to resolve installed pip version. ``pip`` will be added to conda.yaml environment spec without a version specifier.\n"
     ]
    },
    {
     "data": {
      "application/vnd.jupyter.widget-view+json": {
       "model_id": "9ae06a90c0544cb2a843c541fb87ed11",
       "version_major": 2,
       "version_minor": 0
      },
      "text/plain": [
       "Downloading artifacts:   0%|          | 0/7 [00:00<?, ?it/s]"
      ]
     },
     "metadata": {},
     "output_type": "display_data"
    },
    {
     "name": "stderr",
     "output_type": "stream",
     "text": [
      "c:\\Users\\samys\\Documents\\Ingeniería y Ciencia de Datos\\Quinto Semestre\\Proyecto Ciencia de Datos\\Repositorios\\nyc-taxi-predictions-2025\\.venv\\Lib\\site-packages\\mlflow\\xgboost\\__init__.py:321: UserWarning: [20:57:33] WARNING: C:\\actions-runner\\_work\\xgboost\\xgboost\\src\\c_api\\c_api.cc:1511: Unknown file format: `xgb`. Using UBJSON (`ubj`) as a guess.\n",
      "  model.load_model(xgb_model_path)\n",
      "2025/10/21 20:57:34 INFO mlflow.models.model: Found the following environment variables used during model inference: [DATABRICKS_HOST, DATABRICKS_TOKEN]. Please check if you need to set them when deploying the model. To disable this message, set environment variable `MLFLOW_RECORD_ENV_VARS_IN_MODEL_LOGGING` to `false`.\n",
      "[I 2025-10-21 20:57:37,715] Trial 0 finished with value: 5.924581902007077 and parameters: {'max_depth': 40, 'learning_rate': 0.8625543817410922, 'reg_alpha': 0.12593061066249622, 'reg_lambda': 0.049454235173237264, 'min_child_weight': 0.6866535292359801}. Best is trial 0 with value: 5.924581902007077.\n"
     ]
    },
    {
     "name": "stdout",
     "output_type": "stream",
     "text": [
      "🏃 View run clumsy-bass-992 at: https://dbc-c669aeb4-7965.cloud.databricks.com/ml/experiments/873274240097878/runs/5fb0c82ed71a4651a03aa7eb9799de1a\n",
      "🧪 View experiment at: https://dbc-c669aeb4-7965.cloud.databricks.com/ml/experiments/873274240097878\n",
      "[0]\tvalidation-rmse:8.79510\n",
      "[1]\tvalidation-rmse:8.50586\n",
      "[2]\tvalidation-rmse:8.24215\n",
      "[3]\tvalidation-rmse:8.00493\n",
      "[4]\tvalidation-rmse:7.78830\n",
      "[5]\tvalidation-rmse:7.59575\n",
      "[6]\tvalidation-rmse:7.41983\n",
      "[7]\tvalidation-rmse:7.26129\n",
      "[8]\tvalidation-rmse:7.11270\n",
      "[9]\tvalidation-rmse:6.98583\n",
      "[10]\tvalidation-rmse:6.87056\n",
      "[11]\tvalidation-rmse:6.76533\n",
      "[12]\tvalidation-rmse:6.67029\n",
      "[13]\tvalidation-rmse:6.58378\n",
      "[14]\tvalidation-rmse:6.50773\n",
      "[15]\tvalidation-rmse:6.43768\n",
      "[16]\tvalidation-rmse:6.37633\n",
      "[17]\tvalidation-rmse:6.32116\n",
      "[18]\tvalidation-rmse:6.27142\n",
      "[19]\tvalidation-rmse:6.22765\n",
      "[20]\tvalidation-rmse:6.18963\n",
      "[21]\tvalidation-rmse:6.15802\n",
      "[22]\tvalidation-rmse:6.12794\n",
      "[23]\tvalidation-rmse:6.10295\n",
      "[24]\tvalidation-rmse:6.07940\n",
      "[25]\tvalidation-rmse:6.05863\n",
      "[26]\tvalidation-rmse:6.04052\n",
      "[27]\tvalidation-rmse:6.02306\n",
      "[28]\tvalidation-rmse:6.00993\n",
      "[29]\tvalidation-rmse:5.99790\n",
      "[30]\tvalidation-rmse:5.98840\n",
      "[31]\tvalidation-rmse:5.97820\n",
      "[32]\tvalidation-rmse:5.97064\n",
      "[33]\tvalidation-rmse:5.96317\n",
      "[34]\tvalidation-rmse:5.95493\n",
      "[35]\tvalidation-rmse:5.95049\n",
      "[36]\tvalidation-rmse:5.94623\n",
      "[37]\tvalidation-rmse:5.94216\n",
      "[38]\tvalidation-rmse:5.93902\n",
      "[39]\tvalidation-rmse:5.93502\n",
      "[40]\tvalidation-rmse:5.93186\n",
      "[41]\tvalidation-rmse:5.92873\n",
      "[42]\tvalidation-rmse:5.92722\n",
      "[43]\tvalidation-rmse:5.92557\n",
      "[44]\tvalidation-rmse:5.92364\n",
      "[45]\tvalidation-rmse:5.92068\n",
      "[46]\tvalidation-rmse:5.91967\n",
      "[47]\tvalidation-rmse:5.91923\n",
      "[48]\tvalidation-rmse:5.91751\n",
      "[49]\tvalidation-rmse:5.91613\n",
      "[50]\tvalidation-rmse:5.91486\n",
      "[51]\tvalidation-rmse:5.91368\n",
      "[52]\tvalidation-rmse:5.91256\n",
      "[53]\tvalidation-rmse:5.91154\n",
      "[54]\tvalidation-rmse:5.91072\n",
      "[55]\tvalidation-rmse:5.90993\n",
      "[56]\tvalidation-rmse:5.90939\n",
      "[57]\tvalidation-rmse:5.90876\n",
      "[58]\tvalidation-rmse:5.90819\n",
      "[59]\tvalidation-rmse:5.90758\n",
      "[60]\tvalidation-rmse:5.90717\n",
      "[61]\tvalidation-rmse:5.90679\n",
      "[62]\tvalidation-rmse:5.90642\n",
      "[63]\tvalidation-rmse:5.90599\n",
      "[64]\tvalidation-rmse:5.90561\n",
      "[65]\tvalidation-rmse:5.90537\n",
      "[66]\tvalidation-rmse:5.90520\n",
      "[67]\tvalidation-rmse:5.90505\n",
      "[68]\tvalidation-rmse:5.90478\n",
      "[69]\tvalidation-rmse:5.90452\n",
      "[70]\tvalidation-rmse:5.90439\n",
      "[71]\tvalidation-rmse:5.90420\n",
      "[72]\tvalidation-rmse:5.90403\n",
      "[73]\tvalidation-rmse:5.90400\n",
      "[74]\tvalidation-rmse:5.90401\n",
      "[75]\tvalidation-rmse:5.90404\n",
      "[76]\tvalidation-rmse:5.90395\n",
      "[77]\tvalidation-rmse:5.90374\n",
      "[78]\tvalidation-rmse:5.90376\n",
      "[79]\tvalidation-rmse:5.90371\n",
      "[80]\tvalidation-rmse:5.90373\n",
      "[81]\tvalidation-rmse:5.90374\n",
      "[82]\tvalidation-rmse:5.90351\n",
      "[83]\tvalidation-rmse:5.90332\n",
      "[84]\tvalidation-rmse:5.90333\n",
      "[85]\tvalidation-rmse:5.90315\n",
      "[86]\tvalidation-rmse:5.90316\n",
      "[87]\tvalidation-rmse:5.90316\n",
      "[88]\tvalidation-rmse:5.90316\n",
      "[89]\tvalidation-rmse:5.90299\n",
      "[90]\tvalidation-rmse:5.90302\n",
      "[91]\tvalidation-rmse:5.90302\n",
      "[92]\tvalidation-rmse:5.90287\n",
      "[93]\tvalidation-rmse:5.90279\n",
      "[94]\tvalidation-rmse:5.90281\n",
      "[95]\tvalidation-rmse:5.90260\n",
      "[96]\tvalidation-rmse:5.90261\n",
      "[97]\tvalidation-rmse:5.90261\n",
      "[98]\tvalidation-rmse:5.90261\n",
      "[99]\tvalidation-rmse:5.90261\n"
     ]
    },
    {
     "name": "stderr",
     "output_type": "stream",
     "text": [
      "c:\\Users\\samys\\Documents\\Ingeniería y Ciencia de Datos\\Quinto Semestre\\Proyecto Ciencia de Datos\\Repositorios\\nyc-taxi-predictions-2025\\.venv\\Lib\\site-packages\\mlflow\\xgboost\\__init__.py:169: UserWarning: [20:57:46] WARNING: C:\\actions-runner\\_work\\xgboost\\xgboost\\src\\c_api\\c_api.cc:1575: Saving model in the UBJSON format as default.  You can use a file extension: `json` or `ubj` to choose between formats.\n",
      "  xgb_model.save_model(model_data_path)\n",
      "2025/10/21 20:57:52 WARNING mlflow.utils.environment: Failed to resolve installed pip version. ``pip`` will be added to conda.yaml environment spec without a version specifier.\n"
     ]
    },
    {
     "data": {
      "application/vnd.jupyter.widget-view+json": {
       "model_id": "cf2a0420e7bd4d499dccee27d36a8c21",
       "version_major": 2,
       "version_minor": 0
      },
      "text/plain": [
       "Downloading artifacts:   0%|          | 0/7 [00:00<?, ?it/s]"
      ]
     },
     "metadata": {},
     "output_type": "display_data"
    },
    {
     "name": "stderr",
     "output_type": "stream",
     "text": [
      "c:\\Users\\samys\\Documents\\Ingeniería y Ciencia de Datos\\Quinto Semestre\\Proyecto Ciencia de Datos\\Repositorios\\nyc-taxi-predictions-2025\\.venv\\Lib\\site-packages\\mlflow\\xgboost\\__init__.py:321: UserWarning: [20:57:52] WARNING: C:\\actions-runner\\_work\\xgboost\\xgboost\\src\\c_api\\c_api.cc:1511: Unknown file format: `xgb`. Using UBJSON (`ubj`) as a guess.\n",
      "  model.load_model(xgb_model_path)\n",
      "[I 2025-10-21 20:57:58,633] Trial 1 finished with value: 5.902611653559419 and parameters: {'max_depth': 19, 'learning_rate': 0.059264241587996896, 'reg_alpha': 0.21539205131792016, 'reg_lambda': 0.05006540936006931, 'min_child_weight': 6.248180561354165}. Best is trial 1 with value: 5.902611653559419.\n"
     ]
    },
    {
     "name": "stdout",
     "output_type": "stream",
     "text": [
      "🏃 View run youthful-crane-541 at: https://dbc-c669aeb4-7965.cloud.databricks.com/ml/experiments/873274240097878/runs/5e5f7ee9c981407188a212db991f3378\n",
      "🧪 View experiment at: https://dbc-c669aeb4-7965.cloud.databricks.com/ml/experiments/873274240097878\n",
      "[0]\tvalidation-rmse:5.90396\n",
      "[1]\tvalidation-rmse:5.88901\n",
      "[2]\tvalidation-rmse:5.88875\n",
      "[3]\tvalidation-rmse:5.88908\n",
      "[4]\tvalidation-rmse:5.88973\n",
      "[5]\tvalidation-rmse:5.88241\n",
      "[6]\tvalidation-rmse:5.88348\n",
      "[7]\tvalidation-rmse:5.88292\n",
      "[8]\tvalidation-rmse:5.87483\n",
      "[9]\tvalidation-rmse:5.87457\n",
      "[10]\tvalidation-rmse:5.87441\n",
      "[11]\tvalidation-rmse:5.87453\n",
      "[12]\tvalidation-rmse:5.87449\n",
      "[13]\tvalidation-rmse:5.87444\n",
      "[14]\tvalidation-rmse:5.87358\n",
      "[15]\tvalidation-rmse:5.87331\n",
      "[16]\tvalidation-rmse:5.87310\n",
      "[17]\tvalidation-rmse:5.87302\n",
      "[18]\tvalidation-rmse:5.87068\n",
      "[19]\tvalidation-rmse:5.87074\n",
      "[20]\tvalidation-rmse:5.87061\n",
      "[21]\tvalidation-rmse:5.87062\n",
      "[22]\tvalidation-rmse:5.87063\n",
      "[23]\tvalidation-rmse:5.87068\n",
      "[24]\tvalidation-rmse:5.87073\n",
      "[25]\tvalidation-rmse:5.87077\n",
      "[26]\tvalidation-rmse:5.87081\n",
      "[27]\tvalidation-rmse:5.87078\n",
      "[28]\tvalidation-rmse:5.87063\n",
      "[29]\tvalidation-rmse:5.87063\n"
     ]
    },
    {
     "name": "stderr",
     "output_type": "stream",
     "text": [
      "c:\\Users\\samys\\Documents\\Ingeniería y Ciencia de Datos\\Quinto Semestre\\Proyecto Ciencia de Datos\\Repositorios\\nyc-taxi-predictions-2025\\.venv\\Lib\\site-packages\\mlflow\\xgboost\\__init__.py:169: UserWarning: [20:58:05] WARNING: C:\\actions-runner\\_work\\xgboost\\xgboost\\src\\c_api\\c_api.cc:1575: Saving model in the UBJSON format as default.  You can use a file extension: `json` or `ubj` to choose between formats.\n",
      "  xgb_model.save_model(model_data_path)\n",
      "2025/10/21 20:58:10 WARNING mlflow.utils.environment: Failed to resolve installed pip version. ``pip`` will be added to conda.yaml environment spec without a version specifier.\n"
     ]
    },
    {
     "data": {
      "application/vnd.jupyter.widget-view+json": {
       "model_id": "e6a700c684a24943b5ed2366198f9ae0",
       "version_major": 2,
       "version_minor": 0
      },
      "text/plain": [
       "Downloading artifacts:   0%|          | 0/7 [00:00<?, ?it/s]"
      ]
     },
     "metadata": {},
     "output_type": "display_data"
    },
    {
     "name": "stderr",
     "output_type": "stream",
     "text": [
      "c:\\Users\\samys\\Documents\\Ingeniería y Ciencia de Datos\\Quinto Semestre\\Proyecto Ciencia de Datos\\Repositorios\\nyc-taxi-predictions-2025\\.venv\\Lib\\site-packages\\mlflow\\xgboost\\__init__.py:321: UserWarning: [20:58:11] WARNING: C:\\actions-runner\\_work\\xgboost\\xgboost\\src\\c_api\\c_api.cc:1511: Unknown file format: `xgb`. Using UBJSON (`ubj`) as a guess.\n",
      "  model.load_model(xgb_model_path)\n",
      "[I 2025-10-21 20:58:12,946] Trial 2 finished with value: 5.873624736518469 and parameters: {'max_depth': 5, 'learning_rate': 0.9136840519292247, 'reg_alpha': 0.18820387978911576, 'reg_lambda': 0.007166739666045858, 'min_child_weight': 0.7613210498541186}. Best is trial 2 with value: 5.873624736518469.\n"
     ]
    },
    {
     "name": "stdout",
     "output_type": "stream",
     "text": [
      "🏃 View run rumbling-mole-852 at: https://dbc-c669aeb4-7965.cloud.databricks.com/ml/experiments/873274240097878/runs/23cd4ebc2b844ed49bace1d9f5826d1b\n",
      "🧪 View experiment at: https://dbc-c669aeb4-7965.cloud.databricks.com/ml/experiments/873274240097878\n",
      "[0]\tvalidation-rmse:5.90396\n",
      "[1]\tvalidation-rmse:5.88901\n",
      "[2]\tvalidation-rmse:5.88875\n",
      "[3]\tvalidation-rmse:5.88908\n",
      "[4]\tvalidation-rmse:5.88973\n",
      "[5]\tvalidation-rmse:5.88241\n",
      "[6]\tvalidation-rmse:5.88348\n",
      "[7]\tvalidation-rmse:5.88292\n",
      "[8]\tvalidation-rmse:5.87483\n",
      "[9]\tvalidation-rmse:5.87457\n",
      "[10]\tvalidation-rmse:5.87441\n",
      "[11]\tvalidation-rmse:5.87453\n",
      "[12]\tvalidation-rmse:5.87449\n",
      "[13]\tvalidation-rmse:5.87444\n",
      "[14]\tvalidation-rmse:5.87358\n",
      "[15]\tvalidation-rmse:5.87331\n",
      "[16]\tvalidation-rmse:5.87310\n",
      "[17]\tvalidation-rmse:5.87302\n",
      "[18]\tvalidation-rmse:5.87068\n",
      "[19]\tvalidation-rmse:5.87074\n",
      "[20]\tvalidation-rmse:5.87061\n",
      "[21]\tvalidation-rmse:5.87062\n",
      "[22]\tvalidation-rmse:5.87063\n",
      "[23]\tvalidation-rmse:5.87068\n",
      "[24]\tvalidation-rmse:5.87073\n",
      "[25]\tvalidation-rmse:5.87077\n",
      "[26]\tvalidation-rmse:5.87081\n",
      "[27]\tvalidation-rmse:5.87078\n",
      "[28]\tvalidation-rmse:5.87063\n",
      "[29]\tvalidation-rmse:5.87063\n",
      "[30]\tvalidation-rmse:5.87362\n"
     ]
    },
    {
     "name": "stderr",
     "output_type": "stream",
     "text": [
      "c:\\Users\\samys\\Documents\\Ingeniería y Ciencia de Datos\\Quinto Semestre\\Proyecto Ciencia de Datos\\Repositorios\\nyc-taxi-predictions-2025\\.venv\\Lib\\site-packages\\mlflow\\xgboost\\__init__.py:169: UserWarning: [20:58:19] WARNING: C:\\actions-runner\\_work\\xgboost\\xgboost\\src\\c_api\\c_api.cc:1575: Saving model in the UBJSON format as default.  You can use a file extension: `json` or `ubj` to choose between formats.\n",
      "  xgb_model.save_model(model_data_path)\n",
      "2025/10/21 20:58:25 WARNING mlflow.utils.environment: Failed to resolve installed pip version. ``pip`` will be added to conda.yaml environment spec without a version specifier.\n"
     ]
    },
    {
     "data": {
      "application/vnd.jupyter.widget-view+json": {
       "model_id": "5416db2c4aec4add818e1d020628b6b4",
       "version_major": 2,
       "version_minor": 0
      },
      "text/plain": [
       "Downloading artifacts:   0%|          | 0/7 [00:00<?, ?it/s]"
      ]
     },
     "metadata": {},
     "output_type": "display_data"
    },
    {
     "name": "stderr",
     "output_type": "stream",
     "text": [
      "c:\\Users\\samys\\Documents\\Ingeniería y Ciencia de Datos\\Quinto Semestre\\Proyecto Ciencia de Datos\\Repositorios\\nyc-taxi-predictions-2025\\.venv\\Lib\\site-packages\\mlflow\\xgboost\\__init__.py:321: UserWarning: [20:58:25] WARNING: C:\\actions-runner\\_work\\xgboost\\xgboost\\src\\c_api\\c_api.cc:1511: Unknown file format: `xgb`. Using UBJSON (`ubj`) as a guess.\n",
      "  model.load_model(xgb_model_path)\n"
     ]
    },
    {
     "name": "stdout",
     "output_type": "stream",
     "text": [
      "🏃 View run XGBoost Hyperparameter Optimization (Optuna) at: https://dbc-c669aeb4-7965.cloud.databricks.com/ml/experiments/873274240097878/runs/75e31089db27415594e52c185ee217d4\n",
      "🧪 View experiment at: https://dbc-c669aeb4-7965.cloud.databricks.com/ml/experiments/873274240097878\n"
     ]
    }
   ],
   "source": [
    "mlflow.xgboost.autolog(log_models=False)\n",
    "\n",
    "# ------------------------------------------------------------\n",
    "# Crear el estudio de Optuna\n",
    "#    - Usamos TPE (Tree-structured Parzen Estimator) como sampler.\n",
    "#    - direction=\"minimize\" porque queremos minimizar el RMSE.\n",
    "# ------------------------------------------------------------\n",
    "sampler = TPESampler(seed=42)\n",
    "study = optuna.create_study(direction=\"minimize\", sampler=sampler)\n",
    "\n",
    "# ------------------------------------------------------------\n",
    "# Ejecutar la optimización (n_trials = número de intentos)\n",
    "#    - Cada trial ejecuta la función objetivo con un set distinto de hiperparámetros.\n",
    "#    - Abrimos un run \"padre\" para agrupar toda la búsqueda.\n",
    "# ------------------------------------------------------------\n",
    "with mlflow.start_run(run_name=\"XGBoost Hyperparameter Optimization (Optuna)\", nested=True):\n",
    "    study.optimize(objective, n_trials=10)\n",
    "\n",
    "    # --------------------------------------------------------\n",
    "    # Recuperar y registrar los mejores hiperparámetros\n",
    "    # --------------------------------------------------------\n",
    "    best_params = study.best_params\n",
    "    # Asegurar tipos/campos fijos (por claridad y consistencia)\n",
    "    best_params[\"max_depth\"] = int(best_params[\"max_depth\"])\n",
    "    best_params[\"seed\"] = 42\n",
    "    best_params[\"objective\"] = \"reg:squarederror\"\n",
    "\n",
    "    mlflow.log_params(best_params)\n",
    "\n",
    "    # Etiquetas del run \"padre\" (metadatos del experimento)\n",
    "    mlflow.set_tags({\n",
    "        \"project\": \"NYC Taxi Time Prediction Project\",\n",
    "        \"optimizer_engine\": \"optuna\",\n",
    "        \"model_family\": \"xgboost\",\n",
    "        \"feature_set_version\": 1,\n",
    "    })\n",
    "\n",
    "\n",
    "    # --------------------------------------------------------\n",
    "    # 7) Entrenar un modelo FINAL con los mejores hiperparámetros\n",
    "    #    (normalmente se haría sobre train+val o con CV; aquí mantenemos el patrón original)\n",
    "    # --------------------------------------------------------\n",
    "    booster = xgb.train(\n",
    "        params=best_params,\n",
    "        dtrain=train,\n",
    "        num_boost_round=100,\n",
    "        evals=[(valid, \"validation\")],\n",
    "        early_stopping_rounds=10,\n",
    "    )\n",
    "\n",
    "    # Evaluar y registrar la métrica final en validación\n",
    "    y_pred = booster.predict(valid)\n",
    "    rmse = root_mean_squared_error(y_val, y_pred)\n",
    "    mlflow.log_metric(\"rmse\", rmse)\n",
    "\n",
    "    # --------------------------------------------------------\n",
    "    # 8) Guardar artefactos adicionales (p. ej. el preprocesador)\n",
    "    # --------------------------------------------------------\n",
    "    pathlib.Path(\"preprocessor\").mkdir(exist_ok=True)\n",
    "    with open(\"preprocessor/preprocessor.b\", \"wb\") as f_out:\n",
    "        pickle.dump(dv, f_out)\n",
    "\n",
    "    mlflow.log_artifact(\"preprocessor/preprocessor.b\", artifact_path=\"preprocessor\")\n",
    "\n",
    "    # La \"signature\" describe la estructura esperada de entrada y salida del modelo:\n",
    "    # incluye los nombres, tipos y forma (shape) de las variables de entrada y el tipo de salida.\n",
    "    # MLflow la usa para validar datos en inferencia y documentar el modelo en el Model Registry.\n",
    "    # Si X_val es la matriz dispersa (scipy.sparse) salida de DictVectorizer:\n",
    "    feature_names = dv.get_feature_names_out()\n",
    "    input_example = pd.DataFrame(X_val[:5].toarray(), columns=feature_names)\n",
    "    \n",
    "\n",
    "    # Para que las longitudes coincidan, usa el mismo slice en y_pred\n",
    "    signature = infer_signature(input_example, y_val[:5])\n",
    "\n",
    "    # Guardar el modelo del trial como artefacto en MLflow.\n",
    "    mlflow.xgboost.log_model(\n",
    "        booster,\n",
    "        name=\"model\",\n",
    "        input_example=input_example,\n",
    "        signature=signature\n",
    "    )"
   ]
  },
  {
   "cell_type": "markdown",
   "id": "72a7cb4b",
   "metadata": {},
   "source": [
    "## Registrar el modelo en `Model Registry`\n",
    "\n",
    "#### Método 1: Manual"
   ]
  },
  {
   "cell_type": "code",
   "execution_count": 16,
   "id": "e3aeb2dd",
   "metadata": {},
   "outputs": [],
   "source": [
    "model_name = \"workspace.default.nyc-taxi-model\""
   ]
  },
  {
   "cell_type": "code",
   "execution_count": 17,
   "id": "b3cb4122",
   "metadata": {},
   "outputs": [
    {
     "name": "stderr",
     "output_type": "stream",
     "text": [
      "Successfully registered model 'workspace.default.nyc-taxi-model'.\n",
      "2025/10/21 21:14:51 WARNING mlflow.tracking._model_registry.fluent: Run with id 75e31089db27415594e52c185ee217d4 has no artifacts at artifact path 'model', registering model based on models:/m-52c7ef1a28ec422b9126f075f4795ccf instead\n"
     ]
    },
    {
     "data": {
      "application/vnd.jupyter.widget-view+json": {
       "model_id": "1ab133c5ec5a4f5aae791ba32a639842",
       "version_major": 2,
       "version_minor": 0
      },
      "text/plain": [
       "Downloading artifacts:   0%|          | 0/7 [00:00<?, ?it/s]"
      ]
     },
     "metadata": {},
     "output_type": "display_data"
    },
    {
     "data": {
      "application/vnd.jupyter.widget-view+json": {
       "model_id": "a4e8b0f8a7e54ad9b9ded5f85fbfc35f",
       "version_major": 2,
       "version_minor": 0
      },
      "text/plain": [
       "Uploading artifacts:   0%|          | 0/8 [00:00<?, ?it/s]"
      ]
     },
     "metadata": {},
     "output_type": "display_data"
    },
    {
     "name": "stderr",
     "output_type": "stream",
     "text": [
      "Created version '1' of model 'workspace.default.nyc-taxi-model'.\n"
     ]
    }
   ],
   "source": [
    "run_id = input(\"Ingrese el run_id\")\n",
    "run_uri = f\"runs:/{run_id}/model\"\n",
    "\n",
    "result = mlflow.register_model(\n",
    "    model_uri=run_uri,\n",
    "    name=\"workspace.default.nyc-taxi-model\"\n",
    ")"
   ]
  },
  {
   "cell_type": "markdown",
   "id": "37eea708",
   "metadata": {},
   "source": [
    "#### Método 2: Automático"
   ]
  },
  {
   "cell_type": "code",
   "execution_count": 18,
   "id": "51909efa",
   "metadata": {},
   "outputs": [
    {
     "name": "stdout",
     "output_type": "stream",
     "text": [
      "Champion Run encontrado:\n",
      "Run ID: 23cd4ebc2b844ed49bace1d9f5826d1b\n",
      "RMSE: 5.873624736518469\n",
      "Params: {'early_stopping_rounds': '10', 'custom_metric': 'None', 'verbose_eval': 'True', 'seed': '42', 'reg_lambda': '0.007166739666045858', 'reg_alpha': '0.18820387978911576', 'objective': 'reg:squarederror', 'min_child_weight': '0.7613210498541186', 'maximize': 'None', 'max_depth': '5', 'learning_rate': '0.9136840519292247', 'num_boost_round': '100'}\n"
     ]
    }
   ],
   "source": [
    "runs = mlflow.search_runs(\n",
    "    experiment_names=[EXPERIMENT_NAME],\n",
    "    order_by=[\"metrics.rmse ASC\"],\n",
    "    output_format=\"list\"\n",
    ")\n",
    "\n",
    "# Obtener el mejor run\n",
    "if len(runs) > 0:\n",
    "    best_run = runs[0]\n",
    "    print(\"Champion Run encontrado:\")\n",
    "    print(f\"Run ID: {best_run.info.run_id}\")\n",
    "    print(f\"RMSE: {best_run.data.metrics['rmse']}\")\n",
    "    print(f\"Params: {best_run.data.params}\")\n",
    "else:\n",
    "    print(\"No se encontraron runs con métrica RMSE.\")"
   ]
  },
  {
   "cell_type": "code",
   "execution_count": 19,
   "id": "a89517ae",
   "metadata": {},
   "outputs": [
    {
     "name": "stderr",
     "output_type": "stream",
     "text": [
      "Registered model 'workspace.default.nyc-taxi-model' already exists. Creating a new version of this model...\n",
      "2025/10/21 21:21:19 WARNING mlflow.tracking._model_registry.fluent: Run with id 23cd4ebc2b844ed49bace1d9f5826d1b has no artifacts at artifact path 'model', registering model based on models:/m-12377c1bf6ef4593a3465b7f2fb5ee21 instead\n"
     ]
    },
    {
     "data": {
      "application/vnd.jupyter.widget-view+json": {
       "model_id": "a64a2c862fb24640931fbdcf689a7cd3",
       "version_major": 2,
       "version_minor": 0
      },
      "text/plain": [
       "Downloading artifacts:   0%|          | 0/7 [00:00<?, ?it/s]"
      ]
     },
     "metadata": {},
     "output_type": "display_data"
    },
    {
     "data": {
      "application/vnd.jupyter.widget-view+json": {
       "model_id": "35b20b7c25c44a0982815628c1fd5368",
       "version_major": 2,
       "version_minor": 0
      },
      "text/plain": [
       "Uploading artifacts:   0%|          | 0/8 [00:00<?, ?it/s]"
      ]
     },
     "metadata": {},
     "output_type": "display_data"
    },
    {
     "name": "stderr",
     "output_type": "stream",
     "text": [
      "Created version '2' of model 'workspace.default.nyc-taxi-model'.\n"
     ]
    }
   ],
   "source": [
    "result = mlflow.register_model(\n",
    "    model_uri=f\"runs:/{best_run.info.run_id}/model\",\n",
    "    name=model_name\n",
    ")"
   ]
  },
  {
   "cell_type": "markdown",
   "id": "2ada3cb6",
   "metadata": {},
   "source": [
    "Asignar alias"
   ]
  },
  {
   "cell_type": "code",
   "execution_count": 20,
   "id": "7839ebad",
   "metadata": {},
   "outputs": [],
   "source": [
    "from mlflow import MlflowClient\n",
    "\n",
    "client = MlflowClient()"
   ]
  },
  {
   "cell_type": "code",
   "execution_count": 21,
   "id": "ec057225",
   "metadata": {},
   "outputs": [],
   "source": [
    "model_version = result.version\n",
    "new_alias = \"Champion\"\n",
    "\n",
    "client.set_registered_model_alias(\n",
    "    name=model_name,\n",
    "    alias=new_alias,\n",
    "    version=result.version\n",
    ")"
   ]
  },
  {
   "cell_type": "code",
   "execution_count": 22,
   "id": "2be4d8da",
   "metadata": {},
   "outputs": [
    {
     "data": {
      "text/plain": [
       "<ModelVersion: aliases=[], creation_timestamp=1761103283666, current_stage=None, deployment_job_state=<ModelVersionDeploymentJobState: current_task_name='', job_id='', job_state='DEPLOYMENT_JOB_CONNECTION_STATE_UNSPECIFIED', run_id='', run_state='DEPLOYMENT_JOB_RUN_STATE_UNSPECIFIED'>, description='The model version 2 was transitioned to Champion on 2025-10-21 21:25:02.667117', last_updated_timestamp=1761103503603, metrics=[<Metric: dataset_digest='', dataset_name='', key='best_iteration', model_id='m-12377c1bf6ef4593a3465b7f2fb5ee21', run_id='23cd4ebc2b844ed49bace1d9f5826d1b', step=0, timestamp=1761101879942, value=20.0>,\n",
       " <Metric: dataset_digest='', dataset_name='', key='rmse', model_id='m-12377c1bf6ef4593a3465b7f2fb5ee21', run_id='23cd4ebc2b844ed49bace1d9f5826d1b', step=0, timestamp=1761101884003, value=5.873624736518469>,\n",
       " <Metric: dataset_digest='', dataset_name='', key='stopped_iteration', model_id='m-12377c1bf6ef4593a3465b7f2fb5ee21', run_id='23cd4ebc2b844ed49bace1d9f5826d1b', step=0, timestamp=1761101879942, value=29.0>,\n",
       " <Metric: dataset_digest='', dataset_name='', key='validation-rmse', model_id='m-12377c1bf6ef4593a3465b7f2fb5ee21', run_id='23cd4ebc2b844ed49bace1d9f5826d1b', step=0, timestamp=1761101879329, value=5.903963207822603>], model_id='m-12377c1bf6ef4593a3465b7f2fb5ee21', name='workspace.default.nyc-taxi-model', params=[<LoggedModelParameter: key='objective', value='reg:squarederror'>,\n",
       " <LoggedModelParameter: key='early_stopping_rounds', value='10'>,\n",
       " <LoggedModelParameter: key='min_child_weight', value='0.7613210498541186'>,\n",
       " <LoggedModelParameter: key='max_depth', value='5'>,\n",
       " <LoggedModelParameter: key='reg_lambda', value='0.007166739666045858'>,\n",
       " <LoggedModelParameter: key='learning_rate', value='0.9136840519292247'>,\n",
       " <LoggedModelParameter: key='verbose_eval', value='True'>,\n",
       " <LoggedModelParameter: key='num_boost_round', value='100'>,\n",
       " <LoggedModelParameter: key='maximize', value='None'>,\n",
       " <LoggedModelParameter: key='custom_metric', value='None'>,\n",
       " <LoggedModelParameter: key='seed', value='42'>,\n",
       " <LoggedModelParameter: key='reg_alpha', value='0.18820387978911576'>], run_id='23cd4ebc2b844ed49bace1d9f5826d1b', run_link=None, source='models:/m-12377c1bf6ef4593a3465b7f2fb5ee21', status='READY', status_message='', tags={}, user_id='samantha.sancheztin@gmail.com', version='2'>"
      ]
     },
     "execution_count": 22,
     "metadata": {},
     "output_type": "execute_result"
    }
   ],
   "source": [
    "from datetime import datetime\n",
    "\n",
    "date = datetime.today()\n",
    "\n",
    "client.update_model_version(\n",
    "    name=model_name,\n",
    "    version=model_version,\n",
    "    description=f\"The model version {model_version} was transitioned to {new_alias} on {date}\",\n",
    ")"
   ]
  },
  {
   "cell_type": "markdown",
   "id": "b20d7cd0",
   "metadata": {},
   "source": [
    "#### Obteniendo modelos del `Moldel Registry`"
   ]
  },
  {
   "cell_type": "code",
   "execution_count": 23,
   "id": "4946adde",
   "metadata": {},
   "outputs": [
    {
     "data": {
      "application/vnd.jupyter.widget-view+json": {
       "model_id": "bc4e88bb24264f3598f3b7a63e72a2ad",
       "version_major": 2,
       "version_minor": 0
      },
      "text/plain": [
       "Downloading artifacts:   0%|          | 0/8 [00:00<?, ?it/s]"
      ]
     },
     "metadata": {},
     "output_type": "display_data"
    },
    {
     "name": "stderr",
     "output_type": "stream",
     "text": [
      "c:\\Users\\samys\\Documents\\Ingeniería y Ciencia de Datos\\Quinto Semestre\\Proyecto Ciencia de Datos\\Repositorios\\nyc-taxi-predictions-2025\\.venv\\Lib\\site-packages\\mlflow\\xgboost\\__init__.py:321: UserWarning: [21:28:28] WARNING: C:\\actions-runner\\_work\\xgboost\\xgboost\\src\\c_api\\c_api.cc:1511: Unknown file format: `xgb`. Using UBJSON (`ubj`) as a guess.\n",
      "  model.load_model(xgb_model_path)\n"
     ]
    },
    {
     "data": {
      "text/plain": [
       "array([ 4.7416825, 24.05205  , 29.134676 , ..., 21.56244  , 13.990461 ,\n",
       "       24.05205  ], shape=(44218,), dtype=float32)"
      ]
     },
     "execution_count": 23,
     "metadata": {},
     "output_type": "execute_result"
    }
   ],
   "source": [
    "import mlflow.pyfunc\n",
    "\n",
    "model_version_uri = f\"models:/{model_name}@Champion\"\n",
    "\n",
    "champion_version = mlflow.pyfunc.load_model(model_version_uri)\n",
    "champion_version.predict(X_val)"
   ]
  }
 ],
 "metadata": {
  "kernelspec": {
   "display_name": "nyc-taxi-predictions-2025",
   "language": "python",
   "name": "python3"
  },
  "language_info": {
   "codemirror_mode": {
    "name": "ipython",
    "version": 3
   },
   "file_extension": ".py",
   "mimetype": "text/x-python",
   "name": "python",
   "nbconvert_exporter": "python",
   "pygments_lexer": "ipython3",
   "version": "3.11.13"
  }
 },
 "nbformat": 4,
 "nbformat_minor": 5
}
